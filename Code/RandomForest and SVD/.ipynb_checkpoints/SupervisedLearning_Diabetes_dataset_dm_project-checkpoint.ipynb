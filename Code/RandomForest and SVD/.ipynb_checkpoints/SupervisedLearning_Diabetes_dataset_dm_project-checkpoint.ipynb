{
 "cells": [
  {
   "cell_type": "code",
   "execution_count": 1,
   "metadata": {
    "collapsed": true
   },
   "outputs": [],
   "source": [
    "import numpy as np\n",
    "import pandas as pd\n",
    "import matplotlib.pyplot as plt\n",
    "import seaborn as sns\n",
    "import random"
   ]
  },
  {
   "cell_type": "markdown",
   "metadata": {},
   "source": [
    "# Classification using Random Forests"
   ]
  },
  {
   "cell_type": "markdown",
   "metadata": {},
   "source": [
    "## Loading the diabetes dataset"
   ]
  },
  {
   "cell_type": "code",
   "execution_count": 2,
   "metadata": {},
   "outputs": [
    {
     "ename": "FileNotFoundError",
     "evalue": "File b'F:/NortheasternUniversity/Semester4/DataMining/Project/dataset_diabetes/diabetic_data.csv' does not exist",
     "output_type": "error",
     "traceback": [
      "\u001b[1;31m---------------------------------------------------------------------------\u001b[0m",
      "\u001b[1;31mFileNotFoundError\u001b[0m                         Traceback (most recent call last)",
      "\u001b[1;32m<ipython-input-2-860582fc79e7>\u001b[0m in \u001b[0;36m<module>\u001b[1;34m()\u001b[0m\n\u001b[0;32m      3\u001b[0m \u001b[0mdiabetes_cols\u001b[0m \u001b[1;33m=\u001b[0m \u001b[1;33m[\u001b[0m\u001b[1;34m'race'\u001b[0m\u001b[1;33m,\u001b[0m\u001b[1;34m'gender'\u001b[0m\u001b[1;33m,\u001b[0m\u001b[1;34m'age'\u001b[0m\u001b[1;33m,\u001b[0m\u001b[1;34m'admission_type_id'\u001b[0m\u001b[1;33m,\u001b[0m\u001b[1;34m'discharge_disposition_id'\u001b[0m\u001b[1;33m,\u001b[0m\u001b[1;34m'admission_source_id'\u001b[0m\u001b[1;33m,\u001b[0m\u001b[1;34m'time_in_hospital'\u001b[0m\u001b[1;33m,\u001b[0m\u001b[1;34m'num_lab_procedures'\u001b[0m\u001b[1;33m,\u001b[0m\u001b[1;34m'num_procedures'\u001b[0m\u001b[1;33m,\u001b[0m\u001b[1;34m'num_medications'\u001b[0m\u001b[1;33m,\u001b[0m\u001b[1;34m'number_outpatient'\u001b[0m\u001b[1;33m,\u001b[0m\u001b[1;34m'number_emergency'\u001b[0m\u001b[1;33m,\u001b[0m\u001b[1;34m'number_inpatient'\u001b[0m\u001b[1;33m,\u001b[0m\u001b[1;34m'diag_1'\u001b[0m\u001b[1;33m,\u001b[0m\u001b[1;34m'diag_2'\u001b[0m\u001b[1;33m,\u001b[0m\u001b[1;34m'diag_3'\u001b[0m\u001b[1;33m,\u001b[0m\u001b[1;34m'number_diagnoses'\u001b[0m\u001b[1;33m,\u001b[0m\u001b[1;34m'max_glu_serum'\u001b[0m\u001b[1;33m,\u001b[0m\u001b[1;34m'A1Cresult'\u001b[0m\u001b[1;33m,\u001b[0m\u001b[1;34m'metformin'\u001b[0m\u001b[1;33m,\u001b[0m\u001b[1;34m'repaglinide'\u001b[0m\u001b[1;33m,\u001b[0m\u001b[1;34m'nateglinide'\u001b[0m\u001b[1;33m,\u001b[0m\u001b[1;34m'chlorpropamide'\u001b[0m\u001b[1;33m,\u001b[0m\u001b[1;34m'glimepiride'\u001b[0m\u001b[1;33m,\u001b[0m\u001b[1;34m'acetohexamide'\u001b[0m\u001b[1;33m,\u001b[0m\u001b[1;34m'glipizide'\u001b[0m\u001b[1;33m,\u001b[0m\u001b[1;34m'glyburide'\u001b[0m\u001b[1;33m,\u001b[0m\u001b[1;34m'tolbutamide'\u001b[0m\u001b[1;33m,\u001b[0m\u001b[1;34m'pioglitazone'\u001b[0m\u001b[1;33m,\u001b[0m\u001b[1;34m'rosiglitazone'\u001b[0m\u001b[1;33m,\u001b[0m\u001b[1;34m'acarbose'\u001b[0m\u001b[1;33m,\u001b[0m\u001b[1;34m'miglitol'\u001b[0m\u001b[1;33m,\u001b[0m\u001b[1;34m'troglitazone'\u001b[0m\u001b[1;33m,\u001b[0m\u001b[1;34m'tolazamide'\u001b[0m\u001b[1;33m,\u001b[0m\u001b[1;34m'examide'\u001b[0m\u001b[1;33m,\u001b[0m\u001b[1;34m'citoglipton'\u001b[0m\u001b[1;33m,\u001b[0m\u001b[1;34m'insulin'\u001b[0m\u001b[1;33m,\u001b[0m\u001b[1;34m'glyburide-metformin'\u001b[0m\u001b[1;33m,\u001b[0m\u001b[1;34m'glipizide-metformin'\u001b[0m\u001b[1;33m,\u001b[0m\u001b[1;34m'glimepiride-pioglitazone'\u001b[0m\u001b[1;33m,\u001b[0m\u001b[1;34m'metformin-rosiglitazone'\u001b[0m\u001b[1;33m,\u001b[0m\u001b[1;34m'metformin-pioglitazone'\u001b[0m\u001b[1;33m,\u001b[0m\u001b[1;34m'change'\u001b[0m\u001b[1;33m,\u001b[0m\u001b[1;34m'diabetesMed'\u001b[0m\u001b[1;33m,\u001b[0m\u001b[1;34m'readmitted'\u001b[0m\u001b[1;33m]\u001b[0m\u001b[1;33m\u001b[0m\u001b[0m\n\u001b[0;32m      4\u001b[0m \u001b[1;33m\u001b[0m\u001b[0m\n\u001b[1;32m----> 5\u001b[1;33m \u001b[0mdiabetes_df\u001b[0m \u001b[1;33m=\u001b[0m \u001b[0mpd\u001b[0m\u001b[1;33m.\u001b[0m\u001b[0mread_csv\u001b[0m\u001b[1;33m(\u001b[0m\u001b[0mfilePath\u001b[0m\u001b[1;33m,\u001b[0m \u001b[0msep\u001b[0m\u001b[1;33m=\u001b[0m\u001b[1;34m\",\"\u001b[0m\u001b[1;33m)\u001b[0m\u001b[1;33m\u001b[0m\u001b[0m\n\u001b[0m\u001b[0;32m      6\u001b[0m \u001b[0mdiabetes_df\u001b[0m\u001b[1;33m.\u001b[0m\u001b[0mhead\u001b[0m\u001b[1;33m(\u001b[0m\u001b[1;33m)\u001b[0m\u001b[1;33m\u001b[0m\u001b[0m\n",
      "\u001b[1;32mC:\\Users\\Jenny\\Anaconda3\\lib\\site-packages\\pandas\\io\\parsers.py\u001b[0m in \u001b[0;36mparser_f\u001b[1;34m(filepath_or_buffer, sep, delimiter, header, names, index_col, usecols, squeeze, prefix, mangle_dupe_cols, dtype, engine, converters, true_values, false_values, skipinitialspace, skiprows, nrows, na_values, keep_default_na, na_filter, verbose, skip_blank_lines, parse_dates, infer_datetime_format, keep_date_col, date_parser, dayfirst, iterator, chunksize, compression, thousands, decimal, lineterminator, quotechar, quoting, escapechar, comment, encoding, dialect, tupleize_cols, error_bad_lines, warn_bad_lines, skipfooter, skip_footer, doublequote, delim_whitespace, as_recarray, compact_ints, use_unsigned, low_memory, buffer_lines, memory_map, float_precision)\u001b[0m\n\u001b[0;32m    653\u001b[0m                     skip_blank_lines=skip_blank_lines)\n\u001b[0;32m    654\u001b[0m \u001b[1;33m\u001b[0m\u001b[0m\n\u001b[1;32m--> 655\u001b[1;33m         \u001b[1;32mreturn\u001b[0m \u001b[0m_read\u001b[0m\u001b[1;33m(\u001b[0m\u001b[0mfilepath_or_buffer\u001b[0m\u001b[1;33m,\u001b[0m \u001b[0mkwds\u001b[0m\u001b[1;33m)\u001b[0m\u001b[1;33m\u001b[0m\u001b[0m\n\u001b[0m\u001b[0;32m    656\u001b[0m \u001b[1;33m\u001b[0m\u001b[0m\n\u001b[0;32m    657\u001b[0m     \u001b[0mparser_f\u001b[0m\u001b[1;33m.\u001b[0m\u001b[0m__name__\u001b[0m \u001b[1;33m=\u001b[0m \u001b[0mname\u001b[0m\u001b[1;33m\u001b[0m\u001b[0m\n",
      "\u001b[1;32mC:\\Users\\Jenny\\Anaconda3\\lib\\site-packages\\pandas\\io\\parsers.py\u001b[0m in \u001b[0;36m_read\u001b[1;34m(filepath_or_buffer, kwds)\u001b[0m\n\u001b[0;32m    403\u001b[0m \u001b[1;33m\u001b[0m\u001b[0m\n\u001b[0;32m    404\u001b[0m     \u001b[1;31m# Create the parser.\u001b[0m\u001b[1;33m\u001b[0m\u001b[1;33m\u001b[0m\u001b[0m\n\u001b[1;32m--> 405\u001b[1;33m     \u001b[0mparser\u001b[0m \u001b[1;33m=\u001b[0m \u001b[0mTextFileReader\u001b[0m\u001b[1;33m(\u001b[0m\u001b[0mfilepath_or_buffer\u001b[0m\u001b[1;33m,\u001b[0m \u001b[1;33m**\u001b[0m\u001b[0mkwds\u001b[0m\u001b[1;33m)\u001b[0m\u001b[1;33m\u001b[0m\u001b[0m\n\u001b[0m\u001b[0;32m    406\u001b[0m \u001b[1;33m\u001b[0m\u001b[0m\n\u001b[0;32m    407\u001b[0m     \u001b[1;32mif\u001b[0m \u001b[0mchunksize\u001b[0m \u001b[1;32mor\u001b[0m \u001b[0miterator\u001b[0m\u001b[1;33m:\u001b[0m\u001b[1;33m\u001b[0m\u001b[0m\n",
      "\u001b[1;32mC:\\Users\\Jenny\\Anaconda3\\lib\\site-packages\\pandas\\io\\parsers.py\u001b[0m in \u001b[0;36m__init__\u001b[1;34m(self, f, engine, **kwds)\u001b[0m\n\u001b[0;32m    760\u001b[0m             \u001b[0mself\u001b[0m\u001b[1;33m.\u001b[0m\u001b[0moptions\u001b[0m\u001b[1;33m[\u001b[0m\u001b[1;34m'has_index_names'\u001b[0m\u001b[1;33m]\u001b[0m \u001b[1;33m=\u001b[0m \u001b[0mkwds\u001b[0m\u001b[1;33m[\u001b[0m\u001b[1;34m'has_index_names'\u001b[0m\u001b[1;33m]\u001b[0m\u001b[1;33m\u001b[0m\u001b[0m\n\u001b[0;32m    761\u001b[0m \u001b[1;33m\u001b[0m\u001b[0m\n\u001b[1;32m--> 762\u001b[1;33m         \u001b[0mself\u001b[0m\u001b[1;33m.\u001b[0m\u001b[0m_make_engine\u001b[0m\u001b[1;33m(\u001b[0m\u001b[0mself\u001b[0m\u001b[1;33m.\u001b[0m\u001b[0mengine\u001b[0m\u001b[1;33m)\u001b[0m\u001b[1;33m\u001b[0m\u001b[0m\n\u001b[0m\u001b[0;32m    763\u001b[0m \u001b[1;33m\u001b[0m\u001b[0m\n\u001b[0;32m    764\u001b[0m     \u001b[1;32mdef\u001b[0m \u001b[0mclose\u001b[0m\u001b[1;33m(\u001b[0m\u001b[0mself\u001b[0m\u001b[1;33m)\u001b[0m\u001b[1;33m:\u001b[0m\u001b[1;33m\u001b[0m\u001b[0m\n",
      "\u001b[1;32mC:\\Users\\Jenny\\Anaconda3\\lib\\site-packages\\pandas\\io\\parsers.py\u001b[0m in \u001b[0;36m_make_engine\u001b[1;34m(self, engine)\u001b[0m\n\u001b[0;32m    964\u001b[0m     \u001b[1;32mdef\u001b[0m \u001b[0m_make_engine\u001b[0m\u001b[1;33m(\u001b[0m\u001b[0mself\u001b[0m\u001b[1;33m,\u001b[0m \u001b[0mengine\u001b[0m\u001b[1;33m=\u001b[0m\u001b[1;34m'c'\u001b[0m\u001b[1;33m)\u001b[0m\u001b[1;33m:\u001b[0m\u001b[1;33m\u001b[0m\u001b[0m\n\u001b[0;32m    965\u001b[0m         \u001b[1;32mif\u001b[0m \u001b[0mengine\u001b[0m \u001b[1;33m==\u001b[0m \u001b[1;34m'c'\u001b[0m\u001b[1;33m:\u001b[0m\u001b[1;33m\u001b[0m\u001b[0m\n\u001b[1;32m--> 966\u001b[1;33m             \u001b[0mself\u001b[0m\u001b[1;33m.\u001b[0m\u001b[0m_engine\u001b[0m \u001b[1;33m=\u001b[0m \u001b[0mCParserWrapper\u001b[0m\u001b[1;33m(\u001b[0m\u001b[0mself\u001b[0m\u001b[1;33m.\u001b[0m\u001b[0mf\u001b[0m\u001b[1;33m,\u001b[0m \u001b[1;33m**\u001b[0m\u001b[0mself\u001b[0m\u001b[1;33m.\u001b[0m\u001b[0moptions\u001b[0m\u001b[1;33m)\u001b[0m\u001b[1;33m\u001b[0m\u001b[0m\n\u001b[0m\u001b[0;32m    967\u001b[0m         \u001b[1;32melse\u001b[0m\u001b[1;33m:\u001b[0m\u001b[1;33m\u001b[0m\u001b[0m\n\u001b[0;32m    968\u001b[0m             \u001b[1;32mif\u001b[0m \u001b[0mengine\u001b[0m \u001b[1;33m==\u001b[0m \u001b[1;34m'python'\u001b[0m\u001b[1;33m:\u001b[0m\u001b[1;33m\u001b[0m\u001b[0m\n",
      "\u001b[1;32mC:\\Users\\Jenny\\Anaconda3\\lib\\site-packages\\pandas\\io\\parsers.py\u001b[0m in \u001b[0;36m__init__\u001b[1;34m(self, src, **kwds)\u001b[0m\n\u001b[0;32m   1580\u001b[0m         \u001b[0mkwds\u001b[0m\u001b[1;33m[\u001b[0m\u001b[1;34m'allow_leading_cols'\u001b[0m\u001b[1;33m]\u001b[0m \u001b[1;33m=\u001b[0m \u001b[0mself\u001b[0m\u001b[1;33m.\u001b[0m\u001b[0mindex_col\u001b[0m \u001b[1;32mis\u001b[0m \u001b[1;32mnot\u001b[0m \u001b[1;32mFalse\u001b[0m\u001b[1;33m\u001b[0m\u001b[0m\n\u001b[0;32m   1581\u001b[0m \u001b[1;33m\u001b[0m\u001b[0m\n\u001b[1;32m-> 1582\u001b[1;33m         \u001b[0mself\u001b[0m\u001b[1;33m.\u001b[0m\u001b[0m_reader\u001b[0m \u001b[1;33m=\u001b[0m \u001b[0mparsers\u001b[0m\u001b[1;33m.\u001b[0m\u001b[0mTextReader\u001b[0m\u001b[1;33m(\u001b[0m\u001b[0msrc\u001b[0m\u001b[1;33m,\u001b[0m \u001b[1;33m**\u001b[0m\u001b[0mkwds\u001b[0m\u001b[1;33m)\u001b[0m\u001b[1;33m\u001b[0m\u001b[0m\n\u001b[0m\u001b[0;32m   1583\u001b[0m \u001b[1;33m\u001b[0m\u001b[0m\n\u001b[0;32m   1584\u001b[0m         \u001b[1;31m# XXX\u001b[0m\u001b[1;33m\u001b[0m\u001b[1;33m\u001b[0m\u001b[0m\n",
      "\u001b[1;32mpandas\\_libs\\parsers.pyx\u001b[0m in \u001b[0;36mpandas._libs.parsers.TextReader.__cinit__ (pandas\\_libs\\parsers.c:4209)\u001b[1;34m()\u001b[0m\n",
      "\u001b[1;32mpandas\\_libs\\parsers.pyx\u001b[0m in \u001b[0;36mpandas._libs.parsers.TextReader._setup_parser_source (pandas\\_libs\\parsers.c:8873)\u001b[1;34m()\u001b[0m\n",
      "\u001b[1;31mFileNotFoundError\u001b[0m: File b'F:/NortheasternUniversity/Semester4/DataMining/Project/dataset_diabetes/diabetic_data.csv' does not exist"
     ]
    }
   ],
   "source": [
    "filePath = \"F:/NortheasternUniversity/Semester4/DataMining/Project/dataset_diabetes/diabetic_data.csv\"\n",
    "# May not need this.\n",
    "diabetes_cols = ['race','gender','age','admission_type_id','discharge_disposition_id','admission_source_id','time_in_hospital','num_lab_procedures','num_procedures','num_medications','number_outpatient','number_emergency','number_inpatient','diag_1','diag_2','diag_3','number_diagnoses','max_glu_serum','A1Cresult','metformin','repaglinide','nateglinide','chlorpropamide','glimepiride','acetohexamide','glipizide','glyburide','tolbutamide','pioglitazone','rosiglitazone','acarbose','miglitol','troglitazone','tolazamide','examide','citoglipton','insulin','glyburide-metformin','glipizide-metformin','glimepiride-pioglitazone','metformin-rosiglitazone','metformin-pioglitazone','change','diabetesMed','readmitted']\n",
    "\n",
    "diabetes_df = pd.read_csv(filePath, sep=\",\")\n",
    "diabetes_df.head()"
   ]
  },
  {
   "cell_type": "markdown",
   "metadata": {},
   "source": [
    "## Droping unuseful colums"
   ]
  },
  {
   "cell_type": "code",
   "execution_count": null,
   "metadata": {},
   "outputs": [],
   "source": [
    "diabetes_df.drop(['encounter_id', 'patient_nbr', 'weight', 'payer_code', 'medical_specialty', \n",
    "#                  'race', \n",
    "#                  'max_glu_serum', 'A1Cresult', 'glimepiride', 'glyburide', 'pioglitazone', 'rosiglitazone',\n",
    "#                  'acetohexamide', 'repaglinide' , 'nateglinide', 'chlorpropamide', 'metformin', 'glipizide',\n",
    "#                  'tolbutamide', 'acarbose', 'miglitol', 'troglitazone', 'tolazamide', 'examide',\n",
    "#                  'citoglipton', 'glyburide-metformin', 'glipizide-metformin', 'glimepiride-pioglitazone',\n",
    "#                  'metformin-rosiglitazone', 'metformin-pioglitazone', 'diabetesMed'\n",
    "                 ], 1, inplace=True)\n",
    "diabetes_df.head()"
   ]
  },
  {
   "cell_type": "markdown",
   "metadata": {},
   "source": [
    "## Droping numerical features"
   ]
  },
  {
   "cell_type": "markdown",
   "metadata": {},
   "source": [
    "## Converting the diag_1, diag_2, diag_3 values using their ICD9 values to String"
   ]
  },
  {
   "cell_type": "code",
   "execution_count": null,
   "metadata": {
    "collapsed": true
   },
   "outputs": [],
   "source": [
    "# Changed the 'diag_1' based on ICD9 values to one of 'Diabetes','Circulatory','Respiratory','Digestive','Injury','Musculoskeletal','Genitourinary','Neoplasms'\n",
    "diabetes_df['diag_1'] = np.where(diabetes_df['diag_1'].str.contains('250'), 'Diabetes', diabetes_df['diag_1'])\n",
    "diabetes_df['diag_1'] = np.where(diabetes_df['diag_1'].isin(['390','391','392','393','394','395','396','397','398','399','400','401','402','403','404','405','406','407','408','409','410','411','412','413','414','415','416','417','418','419','420','421','422','423','424','425','426','427','428','429','430','431','432','433','434','435','436','437','438','439','440','441','442','443','444','445','446','447','448','449','450','451','452','453','454','455','456','457','458','459','785']), 'Circulatory', diabetes_df['diag_1'])\n",
    "diabetes_df['diag_1'] = np.where(diabetes_df['diag_1'].isin(['460','461','462','463','464','465','466','467','468','469','470','471','472','473','474','475','476','477','478','479','480','481','482','483','484','485','486','487','488','489','490','49','492','493','494','495','496','497','498','499','500','501','502','503','504','505','506','507','508','509','510','511','512','513','514','515','516','517','518','519','786']), 'Respiratory', diabetes_df['diag_1'])\n",
    "diabetes_df['diag_1'] = np.where(diabetes_df['diag_1'].isin(['520','521','522','523','524','525','526','527','528','529','530','531','532','533','534','535','536','537','538','539','540','541','542','543','544','545','546','547','548','549','550','55','552','553','554','555','556','557','558','559','560','561','562','563','564','565','566','567','568','569','570','571','572','573','574','575','576','577','578','579','787']), 'Digestive', diabetes_df['diag_1'])\n",
    "diabetes_df['diag_1'] = np.where(diabetes_df['diag_1'].isin(['800','801','802','803','804','805','806','807','808','809','810','811','812','813','814','815','816','817','818','819','820','821','822','823','824','825','826','827','828','829','830','81','832','833','834','835','836','837','838','839','840','841','842','843','844','845','846','847','848','849','850','851','852','853','854','855','856','857','858','859','860','861','862','863','864','865','866','867','868','869','870','871','872','873','874','875','876','877','878','879','880','881','882','883','884','885','886','887','888','889','890','891','892','893','894','895','896','897','898','899','900','901','902','903','904','905','906','907','908','909','910','911','912','913','914','915','916','917','918','919','920','921','922','923','924','925','26','927','928','929','930','931','932','933','934','935','936','937','938','939','940','941','942','943','944','945','946','947','948','949','950','951','952','953','954','955','956','957','958','959','960','961','962','963','964','965','966','967','968','969','970','971','972','973','974','975','976','977','978','979','980','981','982','983','984','985','986','987','988','989','990','991','992','993','994','995','996','997','998','999']), 'Injury', diabetes_df['diag_1'])\n",
    "diabetes_df['diag_1'] = np.where(diabetes_df['diag_1'].isin(['710','711','712','713','714','715','716','717','718','719','720','721','722','723','724','725','726','727','728','729','730','731','732','733','734','735','736','737','738','739']), 'Musculoskeletal', diabetes_df['diag_1'])\n",
    "diabetes_df['diag_1'] = np.where(diabetes_df['diag_1'].isin(['580','581','582','583','584','585','586','587','588','589','590','591','592','593','594','595','596','597','598','599','600','601','602','603','604','605','606','607','608','609','610','61','612','613','614','615','616','617','618','619','620','621','622','623','624','625','626','627','628','629','788']), 'Genitourinary', diabetes_df['diag_1'])\n",
    "diabetes_df['diag_1'] = np.where(diabetes_df['diag_1'].isin(['140','141','142','143','144','145','146','147','148','149','150','151','152','153','154','155','156','157','158','159','160','161','162','163','164','165','166','167','168','169','170','17','172','173','174','175','176','177','178','179','180','181','182','183','184','185','186','187','188','189','190','191','192','193','194','195','196','197','198','199','200','201','202','203','204','205','206','207','208','209','210','211','212','213','214','215','216','217','218','219','220','221','222','223','224','225','226','227','228','229','230','231','232','233','234','235','236','237','238']), 'Neoplasms', diabetes_df['diag_1'])\n",
    "diabetes_df['diag_1'] = np.where(diabetes_df['diag_1'].isin(['Diabetes','Circulatory','Respiratory','Digestive','Injury','Musculoskeletal','Genitourinary','Neoplasms']), diabetes_df['diag_1'], 'Other')\n"
   ]
  },
  {
   "cell_type": "code",
   "execution_count": null,
   "metadata": {
    "collapsed": true
   },
   "outputs": [],
   "source": [
    "# Changed the 'diag_2' based on ICD9 values to one of 'Diabetes','Circulatory','Respiratory','Digestive','Injury','Musculoskeletal','Genitourinary','Neoplasms'\n",
    "diabetes_df['diag_2'] = np.where(diabetes_df['diag_2'].str.contains('250'), 'Diabetes', diabetes_df['diag_2'])\n",
    "diabetes_df['diag_2'] = np.where(diabetes_df['diag_2'].isin(['390','391','392','393','394','395','396','397','398','399','400','401','402','403','404','405','406','407','408','409','410','411','412','413','414','415','416','417','418','419','420','421','422','423','424','425','426','427','428','429','430','431','432','433','434','435','436','437','438','439','440','441','442','443','444','445','446','447','448','449','450','451','452','453','454','455','456','457','458','459','785']), 'Circulatory', diabetes_df['diag_2'])\n",
    "diabetes_df['diag_2'] = np.where(diabetes_df['diag_2'].isin(['460','461','462','463','464','465','466','467','468','469','470','471','472','473','474','475','476','477','478','479','480','481','482','483','484','485','486','487','488','489','490','49','492','493','494','495','496','497','498','499','500','501','502','503','504','505','506','507','508','509','510','511','512','513','514','515','516','517','518','519','786']), 'Respiratory', diabetes_df['diag_2'])\n",
    "diabetes_df['diag_2'] = np.where(diabetes_df['diag_2'].isin(['520','521','522','523','524','525','526','527','528','529','530','531','532','533','534','535','536','537','538','539','540','541','542','543','544','545','546','547','548','549','550','55','552','553','554','555','556','557','558','559','560','561','562','563','564','565','566','567','568','569','570','571','572','573','574','575','576','577','578','579','787']), 'Digestive', diabetes_df['diag_2'])\n",
    "diabetes_df['diag_2'] = np.where(diabetes_df['diag_2'].isin(['800','801','802','803','804','805','806','807','808','809','810','811','812','813','814','815','816','817','818','819','820','821','822','823','824','825','826','827','828','829','830','81','832','833','834','835','836','837','838','839','840','841','842','843','844','845','846','847','848','849','850','851','852','853','854','855','856','857','858','859','860','861','862','863','864','865','866','867','868','869','870','871','872','873','874','875','876','877','878','879','880','881','882','883','884','885','886','887','888','889','890','891','892','893','894','895','896','897','898','899','900','901','902','903','904','905','906','907','908','909','910','911','912','913','914','915','916','917','918','919','920','921','922','923','924','925','26','927','928','929','930','931','932','933','934','935','936','937','938','939','940','941','942','943','944','945','946','947','948','949','950','951','952','953','954','955','956','957','958','959','960','961','962','963','964','965','966','967','968','969','970','971','972','973','974','975','976','977','978','979','980','981','982','983','984','985','986','987','988','989','990','991','992','993','994','995','996','997','998','999']), 'Injury', diabetes_df['diag_2'])\n",
    "diabetes_df['diag_2'] = np.where(diabetes_df['diag_2'].isin(['710','711','712','713','714','715','716','717','718','719','720','721','722','723','724','725','726','727','728','729','730','731','732','733','734','735','736','737','738','739']), 'Musculoskeletal', diabetes_df['diag_2'])\n",
    "diabetes_df['diag_2'] = np.where(diabetes_df['diag_2'].isin(['580','581','582','583','584','585','586','587','588','589','590','591','592','593','594','595','596','597','598','599','600','601','602','603','604','605','606','607','608','609','610','61','612','613','614','615','616','617','618','619','620','621','622','623','624','625','626','627','628','629','788']), 'Genitourinary', diabetes_df['diag_2'])\n",
    "diabetes_df['diag_2'] = np.where(diabetes_df['diag_2'].isin(['140','141','142','143','144','145','146','147','148','149','150','151','152','153','154','155','156','157','158','159','160','161','162','163','164','165','166','167','168','169','170','17','172','173','174','175','176','177','178','179','180','181','182','183','184','185','186','187','188','189','190','191','192','193','194','195','196','197','198','199','200','201','202','203','204','205','206','207','208','209','210','211','212','213','214','215','216','217','218','219','220','221','222','223','224','225','226','227','228','229','230','231','232','233','234','235','236','237','238']), 'Neoplasms', diabetes_df['diag_2'])\n",
    "diabetes_df['diag_2'] = np.where(diabetes_df['diag_2'].isin(['Diabetes','Circulatory','Respiratory','Digestive','Injury','Musculoskeletal','Genitourinary','Neoplasms']), diabetes_df['diag_2'], 'Other')\n"
   ]
  },
  {
   "cell_type": "code",
   "execution_count": null,
   "metadata": {},
   "outputs": [],
   "source": [
    "# Changed the 'diag_3' based on ICD9 values to one of 'Diabetes','Circulatory','Respiratory','Digestive','Injury','Musculoskeletal','Genitourinary','Neoplasms'\n",
    "diabetes_df['diag_3'] = np.where(diabetes_df['diag_3'].str.contains('250'), 'Diabetes', diabetes_df['diag_3'])\n",
    "diabetes_df['diag_3'] = np.where(diabetes_df['diag_3'].isin(['390','391','392','393','394','395','396','397','398','399','400','401','402','403','404','405','406','407','408','409','410','411','412','413','414','415','416','417','418','419','420','421','422','423','424','425','426','427','428','429','430','431','432','433','434','435','436','437','438','439','440','441','442','443','444','445','446','447','448','449','450','451','452','453','454','455','456','457','458','459','785']), 'Circulatory', diabetes_df['diag_3'])\n",
    "diabetes_df['diag_3'] = np.where(diabetes_df['diag_3'].isin(['460','461','462','463','464','465','466','467','468','469','470','471','472','473','474','475','476','477','478','479','480','481','482','483','484','485','486','487','488','489','490','49','492','493','494','495','496','497','498','499','500','501','502','503','504','505','506','507','508','509','510','511','512','513','514','515','516','517','518','519','786']), 'Respiratory', diabetes_df['diag_3'])\n",
    "diabetes_df['diag_3'] = np.where(diabetes_df['diag_3'].isin(['520','521','522','523','524','525','526','527','528','529','530','531','532','533','534','535','536','537','538','539','540','541','542','543','544','545','546','547','548','549','550','55','552','553','554','555','556','557','558','559','560','561','562','563','564','565','566','567','568','569','570','571','572','573','574','575','576','577','578','579','787']), 'Digestive', diabetes_df['diag_3'])\n",
    "diabetes_df['diag_3'] = np.where(diabetes_df['diag_3'].isin(['800','801','802','803','804','805','806','807','808','809','810','811','812','813','814','815','816','817','818','819','820','821','822','823','824','825','826','827','828','829','830','81','832','833','834','835','836','837','838','839','840','841','842','843','844','845','846','847','848','849','850','851','852','853','854','855','856','857','858','859','860','861','862','863','864','865','866','867','868','869','870','871','872','873','874','875','876','877','878','879','880','881','882','883','884','885','886','887','888','889','890','891','892','893','894','895','896','897','898','899','900','901','902','903','904','905','906','907','908','909','910','911','912','913','914','915','916','917','918','919','920','921','922','923','924','925','26','927','928','929','930','931','932','933','934','935','936','937','938','939','940','941','942','943','944','945','946','947','948','949','950','951','952','953','954','955','956','957','958','959','960','961','962','963','964','965','966','967','968','969','970','971','972','973','974','975','976','977','978','979','980','981','982','983','984','985','986','987','988','989','990','991','992','993','994','995','996','997','998','999']), 'Injury', diabetes_df['diag_3'])\n",
    "diabetes_df['diag_3'] = np.where(diabetes_df['diag_3'].isin(['710','711','712','713','714','715','716','717','718','719','720','721','722','723','724','725','726','727','728','729','730','731','732','733','734','735','736','737','738','739']), 'Musculoskeletal', diabetes_df['diag_3'])\n",
    "diabetes_df['diag_3'] = np.where(diabetes_df['diag_3'].isin(['580','581','582','583','584','585','586','587','588','589','590','591','592','593','594','595','596','597','598','599','600','601','602','603','604','605','606','607','608','609','610','61','612','613','614','615','616','617','618','619','620','621','622','623','624','625','626','627','628','629','788']), 'Genitourinary', diabetes_df['diag_3'])\n",
    "diabetes_df['diag_3'] = np.where(diabetes_df['diag_3'].isin(['140','141','142','143','144','145','146','147','148','149','150','151','152','153','154','155','156','157','158','159','160','161','162','163','164','165','166','167','168','169','170','17','172','173','174','175','176','177','178','179','180','181','182','183','184','185','186','187','188','189','190','191','192','193','194','195','196','197','198','199','200','201','202','203','204','205','206','207','208','209','210','211','212','213','214','215','216','217','218','219','220','221','222','223','224','225','226','227','228','229','230','231','232','233','234','235','236','237','238']), 'Neoplasms', diabetes_df['diag_3'])\n",
    "diabetes_df['diag_3'] = np.where(diabetes_df['diag_3'].isin(['Diabetes','Circulatory','Respiratory','Digestive','Injury','Musculoskeletal','Genitourinary','Neoplasms']), diabetes_df['diag_3'], 'Other')\n",
    "diabetes_df.head()"
   ]
  },
  {
   "cell_type": "markdown",
   "metadata": {},
   "source": [
    "## Replacing String Categorical features to numbers"
   ]
  },
  {
   "cell_type": "code",
   "execution_count": null,
   "metadata": {},
   "outputs": [],
   "source": [
    "# race\n",
    "race = diabetes_df.iloc[:,diabetes_df.columns.get_loc(\"race\")].str.replace('?', 'Caucasian')\n",
    "distinct_race = race.unique()\n",
    "diabetes_df.race = np.array([np.where(distinct_race == i)[0][0] for i in race])\n",
    "\n",
    "# max_glu_serum\n",
    "max_glu_serum = diabetes_df.iloc[:,diabetes_df.columns.get_loc(\"max_glu_serum\")].str.replace('?', 'None')\n",
    "distinct_max_glu_serum = max_glu_serum.unique()\n",
    "diabetes_df.max_glu_serum = np.array([np.where(distinct_max_glu_serum == i)[0][0] for i in max_glu_serum])\n",
    "\n",
    "# A1Cresult\n",
    "A1Cresult = diabetes_df.iloc[:,diabetes_df.columns.get_loc(\"A1Cresult\")].str.replace('?', 'None')\n",
    "distinct_A1Cresult = A1Cresult.unique()\n",
    "diabetes_df.A1Cresult = np.array([np.where(distinct_A1Cresult == i)[0][0] for i in A1Cresult])\n",
    "\n",
    "# metformin\n",
    "metformin = diabetes_df.iloc[:,diabetes_df.columns.get_loc(\"metformin\")].str.replace('?', 'No')\n",
    "distinct_metformin = metformin.unique()\n",
    "diabetes_df.metformin = np.array([np.where(distinct_metformin == i)[0][0] for i in metformin])\n",
    "\n",
    "# repaglinide \n",
    "repaglinide = diabetes_df.iloc[:,diabetes_df.columns.get_loc(\"repaglinide\")].str.replace('?', 'No') \n",
    "distinct_repaglinide = repaglinide.unique()\n",
    "diabetes_df.repaglinide = np.array([np.where(distinct_repaglinide == i)[0][0] for i in repaglinide])\n",
    "\n",
    "# nateglinide\n",
    "nateglinide = diabetes_df.iloc[:,diabetes_df.columns.get_loc(\"nateglinide\")].str.replace('?', 'No')\n",
    "distinct_nateglinide = nateglinide.unique()\n",
    "diabetes_df.nateglinide = np.array([np.where(distinct_nateglinide == i)[0][0] for i in nateglinide])\n",
    "\n",
    "# chlorpropamide\n",
    "chlorpropamide = diabetes_df.iloc[:,diabetes_df.columns.get_loc(\"chlorpropamide\")].str.replace('?', 'No')\n",
    "distinct_chlorpropamide = chlorpropamide.unique()\n",
    "diabetes_df.chlorpropamide = np.array([np.where(distinct_chlorpropamide == i)[0][0] for i in chlorpropamide])\n",
    "\n",
    "# glimepiride\n",
    "glimepiride = diabetes_df.iloc[:,diabetes_df.columns.get_loc(\"glimepiride\")].str.replace('?', 'No')\n",
    "distinct_glimepiride = glimepiride.unique()\n",
    "diabetes_df.glimepiride = np.array([np.where(distinct_glimepiride == i)[0][0] for i in glimepiride])\n",
    "\n",
    "# acetohexamide most of the values are No\n",
    "acetohexamide = diabetes_df.iloc[:,diabetes_df.columns.get_loc(\"acetohexamide\")].str.replace('?', 'No')\n",
    "distinct_acetohexamide = acetohexamide.unique()\n",
    "diabetes_df.acetohexamide = np.array([np.where(distinct_acetohexamide == i)[0][0] for i in acetohexamide])\n",
    "\n",
    "# glipizide\n",
    "glipizide = diabetes_df.iloc[:,diabetes_df.columns.get_loc(\"glipizide\")].str.replace('?', 'No')\n",
    "distinct_glipizide = glipizide.unique()\n",
    "diabetes_df.glipizide = np.array([np.where(distinct_glipizide == i)[0][0] for i in glipizide])\n",
    "\n",
    "# glyburide\n",
    "glyburide = diabetes_df.iloc[:,diabetes_df.columns.get_loc(\"glyburide\")].str.replace('?', 'No')\n",
    "distinct_glyburide = glyburide.unique()\n",
    "diabetes_df.glyburide = np.array([np.where(distinct_glyburide == i)[0][0] for i in glyburide])\n",
    "\n",
    "# tolbutamide\n",
    "tolbutamide = diabetes_df.iloc[:,diabetes_df.columns.get_loc(\"tolbutamide\")].str.replace('?', 'No')\n",
    "distinct_tolbutamide = tolbutamide.unique()\n",
    "diabetes_df.tolbutamide = np.array([np.where(distinct_tolbutamide == i)[0][0] for i in tolbutamide])\n",
    "\n",
    "# pioglitazone\n",
    "pioglitazone = diabetes_df.iloc[:,diabetes_df.columns.get_loc(\"pioglitazone\")].str.replace('?', 'No')\n",
    "distinct_pioglitazone = pioglitazone.unique()\n",
    "diabetes_df.pioglitazone = np.array([np.where(distinct_pioglitazone == i)[0][0] for i in pioglitazone])\n",
    "\n",
    "# rosiglitazone\n",
    "rosiglitazone = diabetes_df.iloc[:,diabetes_df.columns.get_loc(\"rosiglitazone\")].str.replace('?', 'No')\n",
    "distinct_rosiglitazone = rosiglitazone.unique()\n",
    "diabetes_df.rosiglitazone = np.array([np.where(distinct_rosiglitazone == i)[0][0] for i in rosiglitazone])\n",
    "\n",
    "# acarbose\n",
    "acarbose = diabetes_df.iloc[:,diabetes_df.columns.get_loc(\"acarbose\")].str.replace('?', 'No')\n",
    "distinct_acarbose = acarbose.unique()\n",
    "diabetes_df.acarbose = np.array([np.where(distinct_acarbose == i)[0][0] for i in acarbose])\n",
    "\n",
    "# miglitol\n",
    "miglitol = diabetes_df.iloc[:,diabetes_df.columns.get_loc(\"miglitol\")].str.replace('?', 'No')\n",
    "distinct_miglitol = miglitol.unique()\n",
    "diabetes_df.miglitol = np.array([np.where(distinct_miglitol == i)[0][0] for i in miglitol])\n",
    "\n",
    "# troglitazone\n",
    "troglitazone = diabetes_df.iloc[:,diabetes_df.columns.get_loc(\"troglitazone\")].str.replace('?', 'No')\n",
    "distinct_troglitazone = troglitazone.unique()\n",
    "diabetes_df.troglitazone = np.array([np.where(distinct_troglitazone == i)[0][0] for i in troglitazone])\n",
    "\n",
    "# tolazamide\n",
    "tolazamide = diabetes_df.iloc[:,diabetes_df.columns.get_loc(\"tolazamide\")].str.replace('?', 'No')\n",
    "distinct_tolazamide = tolazamide.unique()\n",
    "diabetes_df.tolazamide = np.array([np.where(distinct_tolazamide == i)[0][0] for i in tolazamide])\n",
    "\n",
    "# examide\n",
    "examide = diabetes_df.iloc[:,diabetes_df.columns.get_loc(\"examide\")].str.replace('?', 'No')\n",
    "distinct_examide = examide.unique()\n",
    "diabetes_df.examide = np.array([np.where(distinct_examide == i)[0][0] for i in examide])\n",
    "\n",
    "# citoglipton\n",
    "citoglipton = diabetes_df.iloc[:,diabetes_df.columns.get_loc(\"citoglipton\")].str.replace('?', 'No')\n",
    "distinct_citoglipton = citoglipton.unique()\n",
    "diabetes_df.citoglipton = np.array([np.where(distinct_citoglipton == i)[0][0] for i in citoglipton])\n",
    "\n",
    "# glyburide-metformin\n",
    "glyburide_metformin = diabetes_df.iloc[:,diabetes_df.columns.get_loc(\"glyburide-metformin\")].str.replace('?', 'No')\n",
    "distinct_glyburide_metformin = glyburide_metformin.unique()\n",
    "diabetes_df['glyburide-metformin'] = np.array([np.where(distinct_glyburide_metformin == i)[0][0] for i in glyburide_metformin])\n",
    "\n",
    "# glipizide-metformin\n",
    "glipizide_metformin = diabetes_df.iloc[:,diabetes_df.columns.get_loc(\"glipizide-metformin\")].str.replace('?', 'No')\n",
    "distinct_glipizide_metformin = glipizide_metformin.unique()\n",
    "diabetes_df['glipizide-metformin'] = np.array([np.where(distinct_glipizide_metformin == i)[0][0] for i in glipizide_metformin])\n",
    "\n",
    "# glimepiride-pioglitazone\n",
    "glimepiride_pioglitazone = diabetes_df.iloc[:,diabetes_df.columns.get_loc(\"glimepiride-pioglitazone\")].str.replace('?', 'No')\n",
    "distinct_glimepiride_pioglitazone = glimepiride_pioglitazone.unique()\n",
    "diabetes_df['glimepiride-pioglitazone'] = np.array([np.where(distinct_glimepiride_pioglitazone == i)[0][0] for i in glimepiride_pioglitazone])\n",
    "\n",
    "# metformin-rosiglitazone\n",
    "metformin_rosiglitazone = diabetes_df.iloc[:,diabetes_df.columns.get_loc(\"metformin-rosiglitazone\")].str.replace('?', 'No')\n",
    "distinct_metformin_rosiglitazone = metformin_rosiglitazone.unique()\n",
    "diabetes_df['metformin-rosiglitazone'] = np.array([np.where(distinct_metformin_rosiglitazone == i)[0][0] for i in metformin_rosiglitazone])\n",
    "\n",
    "# metformin-pioglitazone\n",
    "metformin_pioglitazone = diabetes_df.iloc[:,diabetes_df.columns.get_loc(\"metformin-pioglitazone\")].str.replace('?', 'No')\n",
    "distinct_metformin_pioglitazone = metformin_pioglitazone.unique()\n",
    "diabetes_df['metformin-pioglitazone'] = np.array([np.where(distinct_metformin_pioglitazone == i)[0][0] for i in metformin_pioglitazone])\n",
    "\n",
    "# diabetesMed\n",
    "diabetesMed = diabetes_df.iloc[:,diabetes_df.columns.get_loc(\"diabetesMed\")].str.replace('?', 'Yes') \n",
    "distinct_diabetesMed = diabetesMed.unique()\n",
    "diabetes_df.diabetesMed = np.array([np.where(distinct_diabetesMed == i)[0][0] for i in diabetesMed])\n",
    "##################################################################################################\n",
    "# gender\n",
    "gender = diabetes_df.iloc[:,diabetes_df.columns.get_loc(\"gender\")].str.replace('?', 'Female')\n",
    "distinct_gender = gender.unique()\n",
    "diabetes_df.gender = np.array([np.where(distinct_gender == i)[0][0] for i in gender])\n",
    "\n",
    "# age\n",
    "age = diabetes_df.iloc[:,diabetes_df.columns.get_loc(\"age\")].str.replace('?', '[70-80)')\n",
    "distinct_age = age.unique()\n",
    "diabetes_df.age = np.array([np.where(distinct_age == i)[0][0] for i in age])\n",
    "\n",
    "# diag_1\n",
    "diag_1 = diabetes_df.iloc[:,diabetes_df.columns.get_loc(\"diag_1\")].str.replace('?', 'Other')\n",
    "distinct_diag_1 = diag_1.unique()\n",
    "diabetes_df.diag_1 = np.array([np.where(distinct_diag_1 == i)[0][0] for i in diag_1])\n",
    "\n",
    "# diag_2\n",
    "diag_2 = diabetes_df.iloc[:,diabetes_df.columns.get_loc(\"diag_2\")].str.replace('?', 'Other')\n",
    "distinct_diag_2 = diag_2.unique()\n",
    "diabetes_df.diag_2 = np.array([np.where(distinct_diag_2 == i)[0][0] for i in diag_2])\n",
    "\n",
    "# diag_3\n",
    "diag_3 = diabetes_df.iloc[:,diabetes_df.columns.get_loc(\"diag_3\")].str.replace('?', 'Other')\n",
    "distinct_diag_3 = diag_3.unique()\n",
    "diabetes_df.diag_3 = np.array([np.where(distinct_diag_3 == i)[0][0] for i in diag_3])\n",
    "\n",
    "# insulin\n",
    "insulin = diabetes_df.iloc[:,diabetes_df.columns.get_loc(\"insulin\")].str.replace('?', 'No')\n",
    "distinct_insulin = insulin.unique()\n",
    "diabetes_df.insulin = np.array([np.where(distinct_insulin == i)[0][0] for i in insulin])\n",
    "\n",
    "# change\n",
    "change = diabetes_df.iloc[:,diabetes_df.columns.get_loc(\"change\")].str.replace('?', 'No')\n",
    "distinct_change = change.unique()\n",
    "diabetes_df.change = np.array([np.where(distinct_change == i)[0][0] for i in change])\n",
    "\n",
    "# readmitted\n",
    "readmitted = diabetes_df.iloc[:,diabetes_df.columns.get_loc(\"readmitted\")].str.replace('?', 'NO')\n",
    "readmitted = readmitted.str.replace('>30', 'NO')\n",
    "distinct_readmitted = readmitted.unique()\n",
    "diabetes_df.readmitted =readmitted\n",
    "readmitted.describe()\n",
    "#diabetes_df.head()\n"
   ]
  },
  {
   "cell_type": "markdown",
   "metadata": {},
   "source": [
    "## Separate the dataset into positive and negative label"
   ]
  },
  {
   "cell_type": "code",
   "execution_count": null,
   "metadata": {},
   "outputs": [],
   "source": [
    "readmitted_pos = diabetes_df[diabetes_df['readmitted'] == '<30']\n",
    "readmitted_neg = diabetes_df[diabetes_df['readmitted'] == 'NO']\n",
    "readmitted_pos.shape"
   ]
  },
  {
   "cell_type": "code",
   "execution_count": null,
   "metadata": {
    "collapsed": true
   },
   "outputs": [],
   "source": [
    "# Dataframe to list\n",
    "readmitted_pos_list = readmitted_pos.values.tolist()\n",
    "readmitted_neg_list = readmitted_neg.values.tolist()\n",
    "\n",
    "# Randomly select negative data to have same size as pos data\n",
    "sample_neg = random.sample(readmitted_neg_list, 12000)"
   ]
  },
  {
   "cell_type": "markdown",
   "metadata": {},
   "source": [
    "## Prepare Test and Train data"
   ]
  },
  {
   "cell_type": "code",
   "execution_count": null,
   "metadata": {
    "collapsed": true
   },
   "outputs": [],
   "source": [
    "# Prepare train and test data\n",
    "train = readmitted_pos_list[0:5500] + sample_neg[0:5500]\n",
    "test = readmitted_pos_list[5500:] + sample_neg[5500:]\n",
    "\n",
    "# The last column is 'readmitted' label\n",
    "train_X = []\n",
    "train_Y = []\n",
    "for x in train:\n",
    "    train_X.append(x[:-1])\n",
    "    train_Y.append([x[-1]])\n",
    "\n",
    "test_X = []\n",
    "test_Y = []\n",
    "for x in test:\n",
    "    test_X.append(x[:-1])\n",
    "    test_Y.append([x[-1]])"
   ]
  },
  {
   "cell_type": "markdown",
   "metadata": {},
   "source": [
    "## Fit a Random Forest Classifier"
   ]
  },
  {
   "cell_type": "code",
   "execution_count": null,
   "metadata": {},
   "outputs": [],
   "source": [
    "from sklearn.ensemble import RandomForestClassifier\n",
    "rf = RandomForestClassifier(n_estimators=100, oob_score=True, random_state=123456)\n",
    "rf.fit(train_X, train_Y)"
   ]
  },
  {
   "cell_type": "markdown",
   "metadata": {},
   "source": [
    "## Use model to Classify test data"
   ]
  },
  {
   "cell_type": "code",
   "execution_count": null,
   "metadata": {},
   "outputs": [],
   "source": [
    "from sklearn.metrics import accuracy_score\n",
    "predicted = rf.predict(test_X)\n",
    "accuracy = accuracy_score(test_Y, predicted)\n",
    "print(f'Out-of-bag score estimate: {rf.oob_score_:.3}')\n",
    "print(f'Mean accuracy score: {accuracy:.3}')"
   ]
  },
  {
   "cell_type": "markdown",
   "metadata": {},
   "source": [
    "## Visualizing Performance with Confusion Matrix"
   ]
  },
  {
   "cell_type": "code",
   "execution_count": null,
   "metadata": {},
   "outputs": [],
   "source": [
    "from sklearn.metrics import confusion_matrix\n",
    "cm = pd.DataFrame(confusion_matrix(test_Y, predicted), columns=distinct_readmitted, index=distinct_readmitted)\n",
    "sns.heatmap(cm, annot=True)\n",
    "plt.savefig('random_forest_confusion_matrix.pdf', bbox_inches='tight')\n",
    "plt.show()"
   ]
  }
 ],
 "metadata": {
  "kernelspec": {
   "display_name": "Python 3",
   "language": "python",
   "name": "python3"
  },
  "language_info": {
   "codemirror_mode": {
    "name": "ipython",
    "version": 3
   },
   "file_extension": ".py",
   "mimetype": "text/x-python",
   "name": "python",
   "nbconvert_exporter": "python",
   "pygments_lexer": "ipython3",
   "version": "3.6.1"
  }
 },
 "nbformat": 4,
 "nbformat_minor": 2
}
