{
 "cells": [
  {
   "cell_type": "code",
   "execution_count": 1,
   "metadata": {
    "collapsed": true
   },
   "outputs": [],
   "source": [
    "import numpy as np\n",
    "import pandas as pd\n",
    "import matplotlib.pyplot as plt\n",
    "%matplotlib inline\n",
    "import seaborn as sns\n",
    "import sklearn\n",
    "from sklearn import preprocessing, decomposition"
   ]
  },
  {
   "cell_type": "markdown",
   "metadata": {},
   "source": [
    "# Applying SVD\n",
    "#### NOTE: All of the steps after preprocessing are same as learnt from the third assignment."
   ]
  },
  {
   "cell_type": "markdown",
   "metadata": {},
   "source": [
    "## Loading the diabetes dataset"
   ]
  },
  {
   "cell_type": "code",
   "execution_count": 2,
   "metadata": {},
   "outputs": [
    {
     "data": {
      "text/html": [
       "<div>\n",
       "<style>\n",
       "    .dataframe thead tr:only-child th {\n",
       "        text-align: right;\n",
       "    }\n",
       "\n",
       "    .dataframe thead th {\n",
       "        text-align: left;\n",
       "    }\n",
       "\n",
       "    .dataframe tbody tr th {\n",
       "        vertical-align: top;\n",
       "    }\n",
       "</style>\n",
       "<table border=\"1\" class=\"dataframe\">\n",
       "  <thead>\n",
       "    <tr style=\"text-align: right;\">\n",
       "      <th></th>\n",
       "      <th>encounter_id</th>\n",
       "      <th>patient_nbr</th>\n",
       "      <th>race</th>\n",
       "      <th>gender</th>\n",
       "      <th>age</th>\n",
       "      <th>weight</th>\n",
       "      <th>admission_type_id</th>\n",
       "      <th>discharge_disposition_id</th>\n",
       "      <th>admission_source_id</th>\n",
       "      <th>time_in_hospital</th>\n",
       "      <th>...</th>\n",
       "      <th>citoglipton</th>\n",
       "      <th>insulin</th>\n",
       "      <th>glyburide-metformin</th>\n",
       "      <th>glipizide-metformin</th>\n",
       "      <th>glimepiride-pioglitazone</th>\n",
       "      <th>metformin-rosiglitazone</th>\n",
       "      <th>metformin-pioglitazone</th>\n",
       "      <th>change</th>\n",
       "      <th>diabetesMed</th>\n",
       "      <th>readmitted</th>\n",
       "    </tr>\n",
       "  </thead>\n",
       "  <tbody>\n",
       "    <tr>\n",
       "      <th>0</th>\n",
       "      <td>2278392</td>\n",
       "      <td>8222157</td>\n",
       "      <td>Caucasian</td>\n",
       "      <td>Female</td>\n",
       "      <td>[0-10)</td>\n",
       "      <td>?</td>\n",
       "      <td>6</td>\n",
       "      <td>25</td>\n",
       "      <td>1</td>\n",
       "      <td>1</td>\n",
       "      <td>...</td>\n",
       "      <td>No</td>\n",
       "      <td>No</td>\n",
       "      <td>No</td>\n",
       "      <td>No</td>\n",
       "      <td>No</td>\n",
       "      <td>No</td>\n",
       "      <td>No</td>\n",
       "      <td>No</td>\n",
       "      <td>No</td>\n",
       "      <td>NO</td>\n",
       "    </tr>\n",
       "    <tr>\n",
       "      <th>1</th>\n",
       "      <td>149190</td>\n",
       "      <td>55629189</td>\n",
       "      <td>Caucasian</td>\n",
       "      <td>Female</td>\n",
       "      <td>[10-20)</td>\n",
       "      <td>?</td>\n",
       "      <td>1</td>\n",
       "      <td>1</td>\n",
       "      <td>7</td>\n",
       "      <td>3</td>\n",
       "      <td>...</td>\n",
       "      <td>No</td>\n",
       "      <td>Up</td>\n",
       "      <td>No</td>\n",
       "      <td>No</td>\n",
       "      <td>No</td>\n",
       "      <td>No</td>\n",
       "      <td>No</td>\n",
       "      <td>Ch</td>\n",
       "      <td>Yes</td>\n",
       "      <td>&gt;30</td>\n",
       "    </tr>\n",
       "    <tr>\n",
       "      <th>2</th>\n",
       "      <td>64410</td>\n",
       "      <td>86047875</td>\n",
       "      <td>AfricanAmerican</td>\n",
       "      <td>Female</td>\n",
       "      <td>[20-30)</td>\n",
       "      <td>?</td>\n",
       "      <td>1</td>\n",
       "      <td>1</td>\n",
       "      <td>7</td>\n",
       "      <td>2</td>\n",
       "      <td>...</td>\n",
       "      <td>No</td>\n",
       "      <td>No</td>\n",
       "      <td>No</td>\n",
       "      <td>No</td>\n",
       "      <td>No</td>\n",
       "      <td>No</td>\n",
       "      <td>No</td>\n",
       "      <td>No</td>\n",
       "      <td>Yes</td>\n",
       "      <td>NO</td>\n",
       "    </tr>\n",
       "    <tr>\n",
       "      <th>3</th>\n",
       "      <td>500364</td>\n",
       "      <td>82442376</td>\n",
       "      <td>Caucasian</td>\n",
       "      <td>Male</td>\n",
       "      <td>[30-40)</td>\n",
       "      <td>?</td>\n",
       "      <td>1</td>\n",
       "      <td>1</td>\n",
       "      <td>7</td>\n",
       "      <td>2</td>\n",
       "      <td>...</td>\n",
       "      <td>No</td>\n",
       "      <td>Up</td>\n",
       "      <td>No</td>\n",
       "      <td>No</td>\n",
       "      <td>No</td>\n",
       "      <td>No</td>\n",
       "      <td>No</td>\n",
       "      <td>Ch</td>\n",
       "      <td>Yes</td>\n",
       "      <td>NO</td>\n",
       "    </tr>\n",
       "    <tr>\n",
       "      <th>4</th>\n",
       "      <td>16680</td>\n",
       "      <td>42519267</td>\n",
       "      <td>Caucasian</td>\n",
       "      <td>Male</td>\n",
       "      <td>[40-50)</td>\n",
       "      <td>?</td>\n",
       "      <td>1</td>\n",
       "      <td>1</td>\n",
       "      <td>7</td>\n",
       "      <td>1</td>\n",
       "      <td>...</td>\n",
       "      <td>No</td>\n",
       "      <td>Steady</td>\n",
       "      <td>No</td>\n",
       "      <td>No</td>\n",
       "      <td>No</td>\n",
       "      <td>No</td>\n",
       "      <td>No</td>\n",
       "      <td>Ch</td>\n",
       "      <td>Yes</td>\n",
       "      <td>NO</td>\n",
       "    </tr>\n",
       "  </tbody>\n",
       "</table>\n",
       "<p>5 rows × 50 columns</p>\n",
       "</div>"
      ],
      "text/plain": [
       "   encounter_id  patient_nbr             race  gender      age weight  \\\n",
       "0       2278392      8222157        Caucasian  Female   [0-10)      ?   \n",
       "1        149190     55629189        Caucasian  Female  [10-20)      ?   \n",
       "2         64410     86047875  AfricanAmerican  Female  [20-30)      ?   \n",
       "3        500364     82442376        Caucasian    Male  [30-40)      ?   \n",
       "4         16680     42519267        Caucasian    Male  [40-50)      ?   \n",
       "\n",
       "   admission_type_id  discharge_disposition_id  admission_source_id  \\\n",
       "0                  6                        25                    1   \n",
       "1                  1                         1                    7   \n",
       "2                  1                         1                    7   \n",
       "3                  1                         1                    7   \n",
       "4                  1                         1                    7   \n",
       "\n",
       "   time_in_hospital    ...     citoglipton insulin  glyburide-metformin  \\\n",
       "0                 1    ...              No      No                   No   \n",
       "1                 3    ...              No      Up                   No   \n",
       "2                 2    ...              No      No                   No   \n",
       "3                 2    ...              No      Up                   No   \n",
       "4                 1    ...              No  Steady                   No   \n",
       "\n",
       "   glipizide-metformin  glimepiride-pioglitazone  metformin-rosiglitazone  \\\n",
       "0                   No                        No                       No   \n",
       "1                   No                        No                       No   \n",
       "2                   No                        No                       No   \n",
       "3                   No                        No                       No   \n",
       "4                   No                        No                       No   \n",
       "\n",
       "   metformin-pioglitazone  change diabetesMed readmitted  \n",
       "0                      No      No          No         NO  \n",
       "1                      No      Ch         Yes        >30  \n",
       "2                      No      No         Yes         NO  \n",
       "3                      No      Ch         Yes         NO  \n",
       "4                      No      Ch         Yes         NO  \n",
       "\n",
       "[5 rows x 50 columns]"
      ]
     },
     "execution_count": 2,
     "metadata": {},
     "output_type": "execute_result"
    }
   ],
   "source": [
    "filePath = \"../Dataset/diabetic_data.csv\"\n",
    "# May not need this.\n",
    "diabetes_cols = ['race','gender','age','admission_type_id','discharge_disposition_id','admission_source_id','time_in_hospital','num_lab_procedures','num_procedures','num_medications','number_outpatient','number_emergency','number_inpatient','diag_1','diag_2','diag_3','number_diagnoses','max_glu_serum','A1Cresult','metformin','repaglinide','nateglinide','chlorpropamide','glimepiride','acetohexamide','glipizide','glyburide','tolbutamide','pioglitazone','rosiglitazone','acarbose','miglitol','troglitazone','tolazamide','examide','citoglipton','insulin','glyburide-metformin','glipizide-metformin','glimepiride-pioglitazone','metformin-rosiglitazone','metformin-pioglitazone','change','diabetesMed','readmitted']\n",
    "\n",
    "diabetes_df = pd.read_csv(filePath, sep=\",\")\n",
    "diabetes_df.head()"
   ]
  },
  {
   "cell_type": "markdown",
   "metadata": {},
   "source": [
    "## Selecting the following columns and droping rest of the columns\n",
    " `age` \n",
    "\n",
    " `admission_type_id`\n",
    " \n",
    " `discharge_disposition_id`\n",
    " \n",
    " `time_in_hospital` \n",
    "\n",
    "`num_lab_procedures` \n",
    "\n",
    "`num_medications` \n",
    "\n",
    "`diag_1` \n",
    "\n",
    "`diag_2` \n",
    "\n",
    "`diag_3` \n",
    "\n",
    "`number_diagnoses`\n"
   ]
  },
  {
   "cell_type": "code",
   "execution_count": 3,
   "metadata": {},
   "outputs": [
    {
     "data": {
      "text/html": [
       "<div>\n",
       "<style>\n",
       "    .dataframe thead tr:only-child th {\n",
       "        text-align: right;\n",
       "    }\n",
       "\n",
       "    .dataframe thead th {\n",
       "        text-align: left;\n",
       "    }\n",
       "\n",
       "    .dataframe tbody tr th {\n",
       "        vertical-align: top;\n",
       "    }\n",
       "</style>\n",
       "<table border=\"1\" class=\"dataframe\">\n",
       "  <thead>\n",
       "    <tr style=\"text-align: right;\">\n",
       "      <th></th>\n",
       "      <th>age</th>\n",
       "      <th>admission_type_id</th>\n",
       "      <th>discharge_disposition_id</th>\n",
       "      <th>time_in_hospital</th>\n",
       "      <th>num_lab_procedures</th>\n",
       "      <th>num_medications</th>\n",
       "      <th>diag_1</th>\n",
       "      <th>diag_2</th>\n",
       "      <th>diag_3</th>\n",
       "      <th>number_diagnoses</th>\n",
       "      <th>readmitted</th>\n",
       "    </tr>\n",
       "  </thead>\n",
       "  <tbody>\n",
       "    <tr>\n",
       "      <th>0</th>\n",
       "      <td>[0-10)</td>\n",
       "      <td>6</td>\n",
       "      <td>25</td>\n",
       "      <td>1</td>\n",
       "      <td>41</td>\n",
       "      <td>1</td>\n",
       "      <td>250.83</td>\n",
       "      <td>?</td>\n",
       "      <td>?</td>\n",
       "      <td>1</td>\n",
       "      <td>NO</td>\n",
       "    </tr>\n",
       "    <tr>\n",
       "      <th>1</th>\n",
       "      <td>[10-20)</td>\n",
       "      <td>1</td>\n",
       "      <td>1</td>\n",
       "      <td>3</td>\n",
       "      <td>59</td>\n",
       "      <td>18</td>\n",
       "      <td>276</td>\n",
       "      <td>250.01</td>\n",
       "      <td>255</td>\n",
       "      <td>9</td>\n",
       "      <td>&gt;30</td>\n",
       "    </tr>\n",
       "    <tr>\n",
       "      <th>2</th>\n",
       "      <td>[20-30)</td>\n",
       "      <td>1</td>\n",
       "      <td>1</td>\n",
       "      <td>2</td>\n",
       "      <td>11</td>\n",
       "      <td>13</td>\n",
       "      <td>648</td>\n",
       "      <td>250</td>\n",
       "      <td>V27</td>\n",
       "      <td>6</td>\n",
       "      <td>NO</td>\n",
       "    </tr>\n",
       "    <tr>\n",
       "      <th>3</th>\n",
       "      <td>[30-40)</td>\n",
       "      <td>1</td>\n",
       "      <td>1</td>\n",
       "      <td>2</td>\n",
       "      <td>44</td>\n",
       "      <td>16</td>\n",
       "      <td>8</td>\n",
       "      <td>250.43</td>\n",
       "      <td>403</td>\n",
       "      <td>7</td>\n",
       "      <td>NO</td>\n",
       "    </tr>\n",
       "    <tr>\n",
       "      <th>4</th>\n",
       "      <td>[40-50)</td>\n",
       "      <td>1</td>\n",
       "      <td>1</td>\n",
       "      <td>1</td>\n",
       "      <td>51</td>\n",
       "      <td>8</td>\n",
       "      <td>197</td>\n",
       "      <td>157</td>\n",
       "      <td>250</td>\n",
       "      <td>5</td>\n",
       "      <td>NO</td>\n",
       "    </tr>\n",
       "  </tbody>\n",
       "</table>\n",
       "</div>"
      ],
      "text/plain": [
       "       age  admission_type_id  discharge_disposition_id  time_in_hospital  \\\n",
       "0   [0-10)                  6                        25                 1   \n",
       "1  [10-20)                  1                         1                 3   \n",
       "2  [20-30)                  1                         1                 2   \n",
       "3  [30-40)                  1                         1                 2   \n",
       "4  [40-50)                  1                         1                 1   \n",
       "\n",
       "   num_lab_procedures  num_medications  diag_1  diag_2 diag_3  \\\n",
       "0                  41                1  250.83       ?      ?   \n",
       "1                  59               18     276  250.01    255   \n",
       "2                  11               13     648     250    V27   \n",
       "3                  44               16       8  250.43    403   \n",
       "4                  51                8     197     157    250   \n",
       "\n",
       "   number_diagnoses readmitted  \n",
       "0                 1         NO  \n",
       "1                 9        >30  \n",
       "2                 6         NO  \n",
       "3                 7         NO  \n",
       "4                 5         NO  "
      ]
     },
     "execution_count": 3,
     "metadata": {},
     "output_type": "execute_result"
    }
   ],
   "source": [
    "diabetes_df.drop(['encounter_id', 'patient_nbr', 'weight', 'payer_code', 'medical_specialty', \n",
    "                  'race', 'gender',\n",
    "                  'admission_source_id',\n",
    "                  'num_procedures',\n",
    "                  'number_outpatient','number_emergency','number_inpatient',\n",
    "                  'max_glu_serum', 'A1Cresult', 'glimepiride', 'glyburide', 'pioglitazone', 'rosiglitazone',\n",
    "                  'acetohexamide', 'repaglinide' , 'nateglinide', 'chlorpropamide', 'metformin', 'glipizide',\n",
    "                  'tolbutamide', 'acarbose', 'miglitol', 'troglitazone', 'tolazamide', 'examide',\n",
    "                  'citoglipton', 'glyburide-metformin', 'glipizide-metformin', 'glimepiride-pioglitazone',\n",
    "                  'metformin-rosiglitazone', 'metformin-pioglitazone', 'diabetesMed', 'insulin', 'change'\n",
    "                 ], 1, inplace=True)\n",
    "diabetes_df.head()"
   ]
  },
  {
   "cell_type": "markdown",
   "metadata": {},
   "source": [
    "## Droping numerical features"
   ]
  },
  {
   "cell_type": "markdown",
   "metadata": {},
   "source": [
    "## Converting the diag_1, diag_2, diag_3 values using their ICD9 values to String"
   ]
  },
  {
   "cell_type": "code",
   "execution_count": 4,
   "metadata": {
    "collapsed": true
   },
   "outputs": [],
   "source": [
    "# Changed the 'diag_1' based on ICD9 values to one of 'Diabetes','Circulatory','Respiratory','Digestive','Injury','Musculoskeletal','Genitourinary','Neoplasms'\n",
    "diabetes_df['diag_1'] = np.where(diabetes_df['diag_1'].str.contains('250'), 'Diabetes', diabetes_df['diag_1'])\n",
    "diabetes_df['diag_1'] = np.where(diabetes_df['diag_1'].isin(['390','391','392','393','394','395','396','397','398','399','400','401','402','403','404','405','406','407','408','409','410','411','412','413','414','415','416','417','418','419','420','421','422','423','424','425','426','427','428','429','430','431','432','433','434','435','436','437','438','439','440','441','442','443','444','445','446','447','448','449','450','451','452','453','454','455','456','457','458','459','785']), 'Circulatory', diabetes_df['diag_1'])\n",
    "diabetes_df['diag_1'] = np.where(diabetes_df['diag_1'].isin(['460','461','462','463','464','465','466','467','468','469','470','471','472','473','474','475','476','477','478','479','480','481','482','483','484','485','486','487','488','489','490','49','492','493','494','495','496','497','498','499','500','501','502','503','504','505','506','507','508','509','510','511','512','513','514','515','516','517','518','519','786']), 'Respiratory', diabetes_df['diag_1'])\n",
    "diabetes_df['diag_1'] = np.where(diabetes_df['diag_1'].isin(['520','521','522','523','524','525','526','527','528','529','530','531','532','533','534','535','536','537','538','539','540','541','542','543','544','545','546','547','548','549','550','55','552','553','554','555','556','557','558','559','560','561','562','563','564','565','566','567','568','569','570','571','572','573','574','575','576','577','578','579','787']), 'Digestive', diabetes_df['diag_1'])\n",
    "diabetes_df['diag_1'] = np.where(diabetes_df['diag_1'].isin(['800','801','802','803','804','805','806','807','808','809','810','811','812','813','814','815','816','817','818','819','820','821','822','823','824','825','826','827','828','829','830','81','832','833','834','835','836','837','838','839','840','841','842','843','844','845','846','847','848','849','850','851','852','853','854','855','856','857','858','859','860','861','862','863','864','865','866','867','868','869','870','871','872','873','874','875','876','877','878','879','880','881','882','883','884','885','886','887','888','889','890','891','892','893','894','895','896','897','898','899','900','901','902','903','904','905','906','907','908','909','910','911','912','913','914','915','916','917','918','919','920','921','922','923','924','925','26','927','928','929','930','931','932','933','934','935','936','937','938','939','940','941','942','943','944','945','946','947','948','949','950','951','952','953','954','955','956','957','958','959','960','961','962','963','964','965','966','967','968','969','970','971','972','973','974','975','976','977','978','979','980','981','982','983','984','985','986','987','988','989','990','991','992','993','994','995','996','997','998','999']), 'Injury', diabetes_df['diag_1'])\n",
    "diabetes_df['diag_1'] = np.where(diabetes_df['diag_1'].isin(['710','711','712','713','714','715','716','717','718','719','720','721','722','723','724','725','726','727','728','729','730','731','732','733','734','735','736','737','738','739']), 'Musculoskeletal', diabetes_df['diag_1'])\n",
    "diabetes_df['diag_1'] = np.where(diabetes_df['diag_1'].isin(['580','581','582','583','584','585','586','587','588','589','590','591','592','593','594','595','596','597','598','599','600','601','602','603','604','605','606','607','608','609','610','61','612','613','614','615','616','617','618','619','620','621','622','623','624','625','626','627','628','629','788']), 'Genitourinary', diabetes_df['diag_1'])\n",
    "diabetes_df['diag_1'] = np.where(diabetes_df['diag_1'].isin(['140','141','142','143','144','145','146','147','148','149','150','151','152','153','154','155','156','157','158','159','160','161','162','163','164','165','166','167','168','169','170','17','172','173','174','175','176','177','178','179','180','181','182','183','184','185','186','187','188','189','190','191','192','193','194','195','196','197','198','199','200','201','202','203','204','205','206','207','208','209','210','211','212','213','214','215','216','217','218','219','220','221','222','223','224','225','226','227','228','229','230','231','232','233','234','235','236','237','238']), 'Neoplasms', diabetes_df['diag_1'])\n",
    "diabetes_df['diag_1'] = np.where(diabetes_df['diag_1'].isin(['Diabetes','Circulatory','Respiratory','Digestive','Injury','Musculoskeletal','Genitourinary','Neoplasms']), diabetes_df['diag_1'], 'Other')\n"
   ]
  },
  {
   "cell_type": "code",
   "execution_count": 5,
   "metadata": {
    "collapsed": true
   },
   "outputs": [],
   "source": [
    "# Changed the 'diag_2' based on ICD9 values to one of 'Diabetes','Circulatory','Respiratory','Digestive','Injury','Musculoskeletal','Genitourinary','Neoplasms'\n",
    "diabetes_df['diag_2'] = np.where(diabetes_df['diag_2'].str.contains('250'), 'Diabetes', diabetes_df['diag_2'])\n",
    "diabetes_df['diag_2'] = np.where(diabetes_df['diag_2'].isin(['390','391','392','393','394','395','396','397','398','399','400','401','402','403','404','405','406','407','408','409','410','411','412','413','414','415','416','417','418','419','420','421','422','423','424','425','426','427','428','429','430','431','432','433','434','435','436','437','438','439','440','441','442','443','444','445','446','447','448','449','450','451','452','453','454','455','456','457','458','459','785']), 'Circulatory', diabetes_df['diag_2'])\n",
    "diabetes_df['diag_2'] = np.where(diabetes_df['diag_2'].isin(['460','461','462','463','464','465','466','467','468','469','470','471','472','473','474','475','476','477','478','479','480','481','482','483','484','485','486','487','488','489','490','49','492','493','494','495','496','497','498','499','500','501','502','503','504','505','506','507','508','509','510','511','512','513','514','515','516','517','518','519','786']), 'Respiratory', diabetes_df['diag_2'])\n",
    "diabetes_df['diag_2'] = np.where(diabetes_df['diag_2'].isin(['520','521','522','523','524','525','526','527','528','529','530','531','532','533','534','535','536','537','538','539','540','541','542','543','544','545','546','547','548','549','550','55','552','553','554','555','556','557','558','559','560','561','562','563','564','565','566','567','568','569','570','571','572','573','574','575','576','577','578','579','787']), 'Digestive', diabetes_df['diag_2'])\n",
    "diabetes_df['diag_2'] = np.where(diabetes_df['diag_2'].isin(['800','801','802','803','804','805','806','807','808','809','810','811','812','813','814','815','816','817','818','819','820','821','822','823','824','825','826','827','828','829','830','81','832','833','834','835','836','837','838','839','840','841','842','843','844','845','846','847','848','849','850','851','852','853','854','855','856','857','858','859','860','861','862','863','864','865','866','867','868','869','870','871','872','873','874','875','876','877','878','879','880','881','882','883','884','885','886','887','888','889','890','891','892','893','894','895','896','897','898','899','900','901','902','903','904','905','906','907','908','909','910','911','912','913','914','915','916','917','918','919','920','921','922','923','924','925','26','927','928','929','930','931','932','933','934','935','936','937','938','939','940','941','942','943','944','945','946','947','948','949','950','951','952','953','954','955','956','957','958','959','960','961','962','963','964','965','966','967','968','969','970','971','972','973','974','975','976','977','978','979','980','981','982','983','984','985','986','987','988','989','990','991','992','993','994','995','996','997','998','999']), 'Injury', diabetes_df['diag_2'])\n",
    "diabetes_df['diag_2'] = np.where(diabetes_df['diag_2'].isin(['710','711','712','713','714','715','716','717','718','719','720','721','722','723','724','725','726','727','728','729','730','731','732','733','734','735','736','737','738','739']), 'Musculoskeletal', diabetes_df['diag_2'])\n",
    "diabetes_df['diag_2'] = np.where(diabetes_df['diag_2'].isin(['580','581','582','583','584','585','586','587','588','589','590','591','592','593','594','595','596','597','598','599','600','601','602','603','604','605','606','607','608','609','610','61','612','613','614','615','616','617','618','619','620','621','622','623','624','625','626','627','628','629','788']), 'Genitourinary', diabetes_df['diag_2'])\n",
    "diabetes_df['diag_2'] = np.where(diabetes_df['diag_2'].isin(['140','141','142','143','144','145','146','147','148','149','150','151','152','153','154','155','156','157','158','159','160','161','162','163','164','165','166','167','168','169','170','17','172','173','174','175','176','177','178','179','180','181','182','183','184','185','186','187','188','189','190','191','192','193','194','195','196','197','198','199','200','201','202','203','204','205','206','207','208','209','210','211','212','213','214','215','216','217','218','219','220','221','222','223','224','225','226','227','228','229','230','231','232','233','234','235','236','237','238']), 'Neoplasms', diabetes_df['diag_2'])\n",
    "diabetes_df['diag_2'] = np.where(diabetes_df['diag_2'].isin(['Diabetes','Circulatory','Respiratory','Digestive','Injury','Musculoskeletal','Genitourinary','Neoplasms']), diabetes_df['diag_2'], 'Other')\n"
   ]
  },
  {
   "cell_type": "code",
   "execution_count": 6,
   "metadata": {},
   "outputs": [
    {
     "data": {
      "text/html": [
       "<div>\n",
       "<style>\n",
       "    .dataframe thead tr:only-child th {\n",
       "        text-align: right;\n",
       "    }\n",
       "\n",
       "    .dataframe thead th {\n",
       "        text-align: left;\n",
       "    }\n",
       "\n",
       "    .dataframe tbody tr th {\n",
       "        vertical-align: top;\n",
       "    }\n",
       "</style>\n",
       "<table border=\"1\" class=\"dataframe\">\n",
       "  <thead>\n",
       "    <tr style=\"text-align: right;\">\n",
       "      <th></th>\n",
       "      <th>age</th>\n",
       "      <th>admission_type_id</th>\n",
       "      <th>discharge_disposition_id</th>\n",
       "      <th>time_in_hospital</th>\n",
       "      <th>num_lab_procedures</th>\n",
       "      <th>num_medications</th>\n",
       "      <th>diag_1</th>\n",
       "      <th>diag_2</th>\n",
       "      <th>diag_3</th>\n",
       "      <th>number_diagnoses</th>\n",
       "      <th>readmitted</th>\n",
       "    </tr>\n",
       "  </thead>\n",
       "  <tbody>\n",
       "    <tr>\n",
       "      <th>0</th>\n",
       "      <td>[0-10)</td>\n",
       "      <td>6</td>\n",
       "      <td>25</td>\n",
       "      <td>1</td>\n",
       "      <td>41</td>\n",
       "      <td>1</td>\n",
       "      <td>Diabetes</td>\n",
       "      <td>Other</td>\n",
       "      <td>Other</td>\n",
       "      <td>1</td>\n",
       "      <td>NO</td>\n",
       "    </tr>\n",
       "    <tr>\n",
       "      <th>1</th>\n",
       "      <td>[10-20)</td>\n",
       "      <td>1</td>\n",
       "      <td>1</td>\n",
       "      <td>3</td>\n",
       "      <td>59</td>\n",
       "      <td>18</td>\n",
       "      <td>Other</td>\n",
       "      <td>Diabetes</td>\n",
       "      <td>Other</td>\n",
       "      <td>9</td>\n",
       "      <td>&gt;30</td>\n",
       "    </tr>\n",
       "    <tr>\n",
       "      <th>2</th>\n",
       "      <td>[20-30)</td>\n",
       "      <td>1</td>\n",
       "      <td>1</td>\n",
       "      <td>2</td>\n",
       "      <td>11</td>\n",
       "      <td>13</td>\n",
       "      <td>Other</td>\n",
       "      <td>Diabetes</td>\n",
       "      <td>Other</td>\n",
       "      <td>6</td>\n",
       "      <td>NO</td>\n",
       "    </tr>\n",
       "    <tr>\n",
       "      <th>3</th>\n",
       "      <td>[30-40)</td>\n",
       "      <td>1</td>\n",
       "      <td>1</td>\n",
       "      <td>2</td>\n",
       "      <td>44</td>\n",
       "      <td>16</td>\n",
       "      <td>Other</td>\n",
       "      <td>Diabetes</td>\n",
       "      <td>Circulatory</td>\n",
       "      <td>7</td>\n",
       "      <td>NO</td>\n",
       "    </tr>\n",
       "    <tr>\n",
       "      <th>4</th>\n",
       "      <td>[40-50)</td>\n",
       "      <td>1</td>\n",
       "      <td>1</td>\n",
       "      <td>1</td>\n",
       "      <td>51</td>\n",
       "      <td>8</td>\n",
       "      <td>Neoplasms</td>\n",
       "      <td>Neoplasms</td>\n",
       "      <td>Diabetes</td>\n",
       "      <td>5</td>\n",
       "      <td>NO</td>\n",
       "    </tr>\n",
       "  </tbody>\n",
       "</table>\n",
       "</div>"
      ],
      "text/plain": [
       "       age  admission_type_id  discharge_disposition_id  time_in_hospital  \\\n",
       "0   [0-10)                  6                        25                 1   \n",
       "1  [10-20)                  1                         1                 3   \n",
       "2  [20-30)                  1                         1                 2   \n",
       "3  [30-40)                  1                         1                 2   \n",
       "4  [40-50)                  1                         1                 1   \n",
       "\n",
       "   num_lab_procedures  num_medications     diag_1     diag_2       diag_3  \\\n",
       "0                  41                1   Diabetes      Other        Other   \n",
       "1                  59               18      Other   Diabetes        Other   \n",
       "2                  11               13      Other   Diabetes        Other   \n",
       "3                  44               16      Other   Diabetes  Circulatory   \n",
       "4                  51                8  Neoplasms  Neoplasms     Diabetes   \n",
       "\n",
       "   number_diagnoses readmitted  \n",
       "0                 1         NO  \n",
       "1                 9        >30  \n",
       "2                 6         NO  \n",
       "3                 7         NO  \n",
       "4                 5         NO  "
      ]
     },
     "execution_count": 6,
     "metadata": {},
     "output_type": "execute_result"
    }
   ],
   "source": [
    "# Changed the 'diag_3' based on ICD9 values to one of 'Diabetes','Circulatory','Respiratory','Digestive','Injury','Musculoskeletal','Genitourinary','Neoplasms'\n",
    "diabetes_df['diag_3'] = np.where(diabetes_df['diag_3'].str.contains('250'), 'Diabetes', diabetes_df['diag_3'])\n",
    "diabetes_df['diag_3'] = np.where(diabetes_df['diag_3'].isin(['390','391','392','393','394','395','396','397','398','399','400','401','402','403','404','405','406','407','408','409','410','411','412','413','414','415','416','417','418','419','420','421','422','423','424','425','426','427','428','429','430','431','432','433','434','435','436','437','438','439','440','441','442','443','444','445','446','447','448','449','450','451','452','453','454','455','456','457','458','459','785']), 'Circulatory', diabetes_df['diag_3'])\n",
    "diabetes_df['diag_3'] = np.where(diabetes_df['diag_3'].isin(['460','461','462','463','464','465','466','467','468','469','470','471','472','473','474','475','476','477','478','479','480','481','482','483','484','485','486','487','488','489','490','49','492','493','494','495','496','497','498','499','500','501','502','503','504','505','506','507','508','509','510','511','512','513','514','515','516','517','518','519','786']), 'Respiratory', diabetes_df['diag_3'])\n",
    "diabetes_df['diag_3'] = np.where(diabetes_df['diag_3'].isin(['520','521','522','523','524','525','526','527','528','529','530','531','532','533','534','535','536','537','538','539','540','541','542','543','544','545','546','547','548','549','550','55','552','553','554','555','556','557','558','559','560','561','562','563','564','565','566','567','568','569','570','571','572','573','574','575','576','577','578','579','787']), 'Digestive', diabetes_df['diag_3'])\n",
    "diabetes_df['diag_3'] = np.where(diabetes_df['diag_3'].isin(['800','801','802','803','804','805','806','807','808','809','810','811','812','813','814','815','816','817','818','819','820','821','822','823','824','825','826','827','828','829','830','81','832','833','834','835','836','837','838','839','840','841','842','843','844','845','846','847','848','849','850','851','852','853','854','855','856','857','858','859','860','861','862','863','864','865','866','867','868','869','870','871','872','873','874','875','876','877','878','879','880','881','882','883','884','885','886','887','888','889','890','891','892','893','894','895','896','897','898','899','900','901','902','903','904','905','906','907','908','909','910','911','912','913','914','915','916','917','918','919','920','921','922','923','924','925','26','927','928','929','930','931','932','933','934','935','936','937','938','939','940','941','942','943','944','945','946','947','948','949','950','951','952','953','954','955','956','957','958','959','960','961','962','963','964','965','966','967','968','969','970','971','972','973','974','975','976','977','978','979','980','981','982','983','984','985','986','987','988','989','990','991','992','993','994','995','996','997','998','999']), 'Injury', diabetes_df['diag_3'])\n",
    "diabetes_df['diag_3'] = np.where(diabetes_df['diag_3'].isin(['710','711','712','713','714','715','716','717','718','719','720','721','722','723','724','725','726','727','728','729','730','731','732','733','734','735','736','737','738','739']), 'Musculoskeletal', diabetes_df['diag_3'])\n",
    "diabetes_df['diag_3'] = np.where(diabetes_df['diag_3'].isin(['580','581','582','583','584','585','586','587','588','589','590','591','592','593','594','595','596','597','598','599','600','601','602','603','604','605','606','607','608','609','610','61','612','613','614','615','616','617','618','619','620','621','622','623','624','625','626','627','628','629','788']), 'Genitourinary', diabetes_df['diag_3'])\n",
    "diabetes_df['diag_3'] = np.where(diabetes_df['diag_3'].isin(['140','141','142','143','144','145','146','147','148','149','150','151','152','153','154','155','156','157','158','159','160','161','162','163','164','165','166','167','168','169','170','17','172','173','174','175','176','177','178','179','180','181','182','183','184','185','186','187','188','189','190','191','192','193','194','195','196','197','198','199','200','201','202','203','204','205','206','207','208','209','210','211','212','213','214','215','216','217','218','219','220','221','222','223','224','225','226','227','228','229','230','231','232','233','234','235','236','237','238']), 'Neoplasms', diabetes_df['diag_3'])\n",
    "diabetes_df['diag_3'] = np.where(diabetes_df['diag_3'].isin(['Diabetes','Circulatory','Respiratory','Digestive','Injury','Musculoskeletal','Genitourinary','Neoplasms']), diabetes_df['diag_3'], 'Other')\n",
    "diabetes_df.head()"
   ]
  },
  {
   "cell_type": "markdown",
   "metadata": {},
   "source": [
    "## Replacing the following Categorical features to numbers"
   ]
  },
  {
   "cell_type": "code",
   "execution_count": 7,
   "metadata": {},
   "outputs": [
    {
     "data": {
      "text/html": [
       "<div>\n",
       "<style>\n",
       "    .dataframe thead tr:only-child th {\n",
       "        text-align: right;\n",
       "    }\n",
       "\n",
       "    .dataframe thead th {\n",
       "        text-align: left;\n",
       "    }\n",
       "\n",
       "    .dataframe tbody tr th {\n",
       "        vertical-align: top;\n",
       "    }\n",
       "</style>\n",
       "<table border=\"1\" class=\"dataframe\">\n",
       "  <thead>\n",
       "    <tr style=\"text-align: right;\">\n",
       "      <th></th>\n",
       "      <th>age</th>\n",
       "      <th>admission_type_id</th>\n",
       "      <th>discharge_disposition_id</th>\n",
       "      <th>time_in_hospital</th>\n",
       "      <th>num_lab_procedures</th>\n",
       "      <th>num_medications</th>\n",
       "      <th>diag_1</th>\n",
       "      <th>diag_2</th>\n",
       "      <th>diag_3</th>\n",
       "      <th>number_diagnoses</th>\n",
       "      <th>readmitted</th>\n",
       "    </tr>\n",
       "  </thead>\n",
       "  <tbody>\n",
       "    <tr>\n",
       "      <th>0</th>\n",
       "      <td>0</td>\n",
       "      <td>6</td>\n",
       "      <td>25</td>\n",
       "      <td>1</td>\n",
       "      <td>41</td>\n",
       "      <td>1</td>\n",
       "      <td>0</td>\n",
       "      <td>0</td>\n",
       "      <td>0</td>\n",
       "      <td>1</td>\n",
       "      <td>NO</td>\n",
       "    </tr>\n",
       "    <tr>\n",
       "      <th>1</th>\n",
       "      <td>1</td>\n",
       "      <td>1</td>\n",
       "      <td>1</td>\n",
       "      <td>3</td>\n",
       "      <td>59</td>\n",
       "      <td>18</td>\n",
       "      <td>1</td>\n",
       "      <td>1</td>\n",
       "      <td>0</td>\n",
       "      <td>9</td>\n",
       "      <td>NO</td>\n",
       "    </tr>\n",
       "    <tr>\n",
       "      <th>2</th>\n",
       "      <td>2</td>\n",
       "      <td>1</td>\n",
       "      <td>1</td>\n",
       "      <td>2</td>\n",
       "      <td>11</td>\n",
       "      <td>13</td>\n",
       "      <td>1</td>\n",
       "      <td>1</td>\n",
       "      <td>0</td>\n",
       "      <td>6</td>\n",
       "      <td>NO</td>\n",
       "    </tr>\n",
       "    <tr>\n",
       "      <th>3</th>\n",
       "      <td>3</td>\n",
       "      <td>1</td>\n",
       "      <td>1</td>\n",
       "      <td>2</td>\n",
       "      <td>44</td>\n",
       "      <td>16</td>\n",
       "      <td>1</td>\n",
       "      <td>1</td>\n",
       "      <td>1</td>\n",
       "      <td>7</td>\n",
       "      <td>NO</td>\n",
       "    </tr>\n",
       "    <tr>\n",
       "      <th>4</th>\n",
       "      <td>4</td>\n",
       "      <td>1</td>\n",
       "      <td>1</td>\n",
       "      <td>1</td>\n",
       "      <td>51</td>\n",
       "      <td>8</td>\n",
       "      <td>2</td>\n",
       "      <td>2</td>\n",
       "      <td>2</td>\n",
       "      <td>5</td>\n",
       "      <td>NO</td>\n",
       "    </tr>\n",
       "  </tbody>\n",
       "</table>\n",
       "</div>"
      ],
      "text/plain": [
       "   age  admission_type_id  discharge_disposition_id  time_in_hospital  \\\n",
       "0    0                  6                        25                 1   \n",
       "1    1                  1                         1                 3   \n",
       "2    2                  1                         1                 2   \n",
       "3    3                  1                         1                 2   \n",
       "4    4                  1                         1                 1   \n",
       "\n",
       "   num_lab_procedures  num_medications  diag_1  diag_2  diag_3  \\\n",
       "0                  41                1       0       0       0   \n",
       "1                  59               18       1       1       0   \n",
       "2                  11               13       1       1       0   \n",
       "3                  44               16       1       1       1   \n",
       "4                  51                8       2       2       2   \n",
       "\n",
       "   number_diagnoses readmitted  \n",
       "0                 1         NO  \n",
       "1                 9         NO  \n",
       "2                 6         NO  \n",
       "3                 7         NO  \n",
       "4                 5         NO  "
      ]
     },
     "execution_count": 7,
     "metadata": {},
     "output_type": "execute_result"
    }
   ],
   "source": [
    "# age\n",
    "age = diabetes_df.iloc[:,diabetes_df.columns.get_loc(\"age\")].str.replace('?', '[70-80)')\n",
    "distinct_age = age.unique()\n",
    "diabetes_df.age = np.array([np.where(distinct_age == i)[0][0] for i in age])\n",
    "\n",
    "# diag_1\n",
    "diag_1 = diabetes_df.iloc[:,diabetes_df.columns.get_loc(\"diag_1\")].str.replace('?', 'Other')\n",
    "distinct_diag_1 = diag_1.unique()\n",
    "diabetes_df.diag_1 = np.array([np.where(distinct_diag_1 == i)[0][0] for i in diag_1])\n",
    "\n",
    "# diag_2\n",
    "diag_2 = diabetes_df.iloc[:,diabetes_df.columns.get_loc(\"diag_2\")].str.replace('?', 'Other')\n",
    "distinct_diag_2 = diag_2.unique()\n",
    "diabetes_df.diag_2 = np.array([np.where(distinct_diag_2 == i)[0][0] for i in diag_2])\n",
    "\n",
    "# diag_3\n",
    "diag_3 = diabetes_df.iloc[:,diabetes_df.columns.get_loc(\"diag_3\")].str.replace('?', 'Other')\n",
    "distinct_diag_3 = diag_3.unique()\n",
    "diabetes_df.diag_3 = np.array([np.where(distinct_diag_3 == i)[0][0] for i in diag_3])\n",
    "\n",
    "# readmitted\n",
    "readmitted = diabetes_df.iloc[:,diabetes_df.columns.get_loc(\"readmitted\")].str.replace('?', 'NO')\n",
    "readmitted = readmitted.str.replace('>30', 'NO')\n",
    "distinct_readmitted = readmitted.unique()\n",
    "diabetes_df.readmitted =readmitted\n",
    "\n",
    "diabetes_df.head()"
   ]
  },
  {
   "cell_type": "markdown",
   "metadata": {},
   "source": [
    "## Split on input data and class label"
   ]
  },
  {
   "cell_type": "code",
   "execution_count": 8,
   "metadata": {
    "collapsed": true
   },
   "outputs": [],
   "source": [
    "# Let's split on input data/class label\n",
    "# In an unsupervised setting, we might not have the class label,\n",
    "# or use it only for final evaluation\n",
    "X = diabetes_df.iloc[:,0:-1]\n",
    "Y = diabetes_df.iloc[:, -1]\n",
    "#diabetes_df = None"
   ]
  },
  {
   "cell_type": "markdown",
   "metadata": {},
   "source": [
    "## Supervised Visulaization of the selected columns "
   ]
  },
  {
   "cell_type": "code",
   "execution_count": 9,
   "metadata": {},
   "outputs": [
    {
     "data": {
      "text/plain": [
       "<matplotlib.legend.Legend at 0x168790dda58>"
      ]
     },
     "execution_count": 9,
     "metadata": {},
     "output_type": "execute_result"
    },
    {
     "data": {
      "image/png": "[encoded data removed]",
      "text/plain": [
       "<matplotlib.figure.Figure at 0x1687901e208>"
      ]
     },
     "metadata": {},
     "output_type": "display_data"
    }
   ],
   "source": [
    "for readmitted_val in distinct_readmitted:\n",
    "    plt.hist([X.loc[p].time_in_hospital for p in Y[Y.isin([readmitted_val])].index], label=readmitted_val)\n",
    "    \n",
    "plt.title('time_in_hospital')\n",
    "plt.legend(loc='upper right')\n",
    "#plt.show()"
   ]
  },
  {
   "cell_type": "code",
   "execution_count": 10,
   "metadata": {},
   "outputs": [
    {
     "data": {
      "text/plain": [
       "<matplotlib.legend.Legend at 0x168799e1208>"
      ]
     },
     "execution_count": 10,
     "metadata": {},
     "output_type": "execute_result"
    },
    {
     "data": {
      "image/png": "[encoded data removed]",
      "text/plain": [
       "<matplotlib.figure.Figure at 0x168755e4780>"
      ]
     },
     "metadata": {},
     "output_type": "display_data"
    }
   ],
   "source": [
    "for readmitted_val in distinct_readmitted:\n",
    "    plt.hist([X.loc[p].age for p in Y[Y.isin([readmitted_val])].index], label=readmitted_val)\n",
    "    \n",
    "plt.title('age')\n",
    "plt.legend(loc='upper right')\n",
    "#plt.show()"
   ]
  },
  {
   "cell_type": "code",
   "execution_count": 11,
   "metadata": {},
   "outputs": [
    {
     "data": {
      "text/plain": [
       "<matplotlib.legend.Legend at 0x1687a53efd0>"
      ]
     },
     "execution_count": 11,
     "metadata": {},
     "output_type": "execute_result"
    },
    {
     "data": {
      "image/png": "[encoded data removed]",
      "text/plain": [
       "<matplotlib.figure.Figure at 0x1687a53ed68>"
      ]
     },
     "metadata": {},
     "output_type": "display_data"
    }
   ],
   "source": [
    "for readmitted_val in distinct_readmitted:\n",
    "    plt.hist([X.loc[p].num_lab_procedures for p in Y[Y.isin([readmitted_val])].index], label=readmitted_val)\n",
    "    \n",
    "plt.title('num_lab_procedures')\n",
    "plt.legend(loc='upper right')\n",
    "#plt.show()"
   ]
  },
  {
   "cell_type": "code",
   "execution_count": 12,
   "metadata": {},
   "outputs": [
    {
     "data": {
      "text/plain": [
       "<matplotlib.legend.Legend at 0x1687a5bbb00>"
      ]
     },
     "execution_count": 12,
     "metadata": {},
     "output_type": "execute_result"
    },
    {
     "data": {
      "image/png": "[encoded data removed]",
      "text/plain": [
       "<matplotlib.figure.Figure at 0x1687a555d30>"
      ]
     },
     "metadata": {},
     "output_type": "display_data"
    }
   ],
   "source": [
    "for readmitted_val in distinct_readmitted:\n",
    "    plt.hist([X.loc[p].num_medications for p in Y[Y.isin([readmitted_val])].index], label=readmitted_val)\n",
    "    \n",
    "plt.title('num_medications')\n",
    "plt.legend(loc='upper right')\n",
    "#plt.show()"
   ]
  },
  {
   "cell_type": "code",
   "execution_count": 13,
   "metadata": {},
   "outputs": [
    {
     "data": {
      "text/plain": [
       "<matplotlib.legend.Legend at 0x16879b88e80>"
      ]
     },
     "execution_count": 13,
     "metadata": {},
     "output_type": "execute_result"
    },
    {
     "data": {
      "image/png": "[encoded data removed]",
      "text/plain": [
       "<matplotlib.figure.Figure at 0x168799e1630>"
      ]
     },
     "metadata": {},
     "output_type": "display_data"
    }
   ],
   "source": [
    "for readmitted_val in distinct_readmitted:\n",
    "    plt.hist([X.loc[p].diag_1 for p in Y[Y.isin([readmitted_val])].index], label=readmitted_val)\n",
    "    \n",
    "plt.title('diag_1')\n",
    "plt.legend(loc='upper right')\n",
    "#plt.show()"
   ]
  },
  {
   "cell_type": "code",
   "execution_count": 14,
   "metadata": {},
   "outputs": [
    {
     "data": {
      "text/plain": [
       "<matplotlib.legend.Legend at 0x1687a87d748>"
      ]
     },
     "execution_count": 14,
     "metadata": {},
     "output_type": "execute_result"
    },
    {
     "data": {
      "image/png": "[encoded data removed]",
      "text/plain": [
       "<matplotlib.figure.Figure at 0x1687a841978>"
      ]
     },
     "metadata": {},
     "output_type": "display_data"
    }
   ],
   "source": [
    "for readmitted_val in distinct_readmitted:\n",
    "    plt.hist([X.loc[p].diag_2 for p in Y[Y.isin([readmitted_val])].index], label=readmitted_val)\n",
    "    \n",
    "plt.title('diag_2')\n",
    "plt.legend(loc='upper right')\n",
    "#plt.show()"
   ]
  },
  {
   "cell_type": "code",
   "execution_count": 15,
   "metadata": {},
   "outputs": [
    {
     "data": {
      "text/plain": [
       "<matplotlib.legend.Legend at 0x16879c2f2e8>"
      ]
     },
     "execution_count": 15,
     "metadata": {},
     "output_type": "execute_result"
    },
    {
     "data": {
      "image/png": "[encoded data removed]",
      "text/plain": [
       "<matplotlib.figure.Figure at 0x16879e57a90>"
      ]
     },
     "metadata": {},
     "output_type": "display_data"
    }
   ],
   "source": [
    "for readmitted_val in distinct_readmitted:\n",
    "    plt.hist([X.loc[p].diag_3 for p in Y[Y.isin([readmitted_val])].index], label=readmitted_val)\n",
    "    \n",
    "plt.title('diag_3')\n",
    "plt.legend(loc='upper right')\n",
    "#plt.show()"
   ]
  },
  {
   "cell_type": "code",
   "execution_count": 16,
   "metadata": {},
   "outputs": [
    {
     "data": {
      "text/plain": [
       "<matplotlib.legend.Legend at 0x1687f9709e8>"
      ]
     },
     "execution_count": 16,
     "metadata": {},
     "output_type": "execute_result"
    },
    {
     "data": {
      "image/png": "[encoded data removed]",
      "text/plain": [
       "<matplotlib.figure.Figure at 0x16879e03b00>"
      ]
     },
     "metadata": {},
     "output_type": "display_data"
    }
   ],
   "source": [
    "for readmitted_val in distinct_readmitted:\n",
    "    plt.hist([X.loc[p].number_diagnoses for p in Y[Y.isin([readmitted_val])].index], label=readmitted_val)\n",
    "    \n",
    "plt.title('number_diagnoses')\n",
    "plt.legend(loc='upper right')\n",
    "#plt.show()"
   ]
  },
  {
   "cell_type": "markdown",
   "metadata": {},
   "source": [
    "## Preprocessing with `scikit-learn`"
   ]
  },
  {
   "cell_type": "code",
   "execution_count": 17,
   "metadata": {
    "collapsed": true
   },
   "outputs": [],
   "source": [
    "X_std = preprocessing.StandardScaler().fit_transform(X)"
   ]
  },
  {
   "cell_type": "code",
   "execution_count": 18,
   "metadata": {
    "collapsed": true
   },
   "outputs": [],
   "source": [
    "X_std = pd.DataFrame(X_std, columns=list(X))"
   ]
  },
  {
   "cell_type": "code",
   "execution_count": 19,
   "metadata": {},
   "outputs": [
    {
     "data": {
      "text/html": [
       "<div>\n",
       "<style>\n",
       "    .dataframe thead tr:only-child th {\n",
       "        text-align: right;\n",
       "    }\n",
       "\n",
       "    .dataframe thead th {\n",
       "        text-align: left;\n",
       "    }\n",
       "\n",
       "    .dataframe tbody tr th {\n",
       "        vertical-align: top;\n",
       "    }\n",
       "</style>\n",
       "<table border=\"1\" class=\"dataframe\">\n",
       "  <thead>\n",
       "    <tr style=\"text-align: right;\">\n",
       "      <th></th>\n",
       "      <th>age</th>\n",
       "      <th>admission_type_id</th>\n",
       "      <th>discharge_disposition_id</th>\n",
       "      <th>time_in_hospital</th>\n",
       "      <th>num_lab_procedures</th>\n",
       "      <th>num_medications</th>\n",
       "      <th>diag_1</th>\n",
       "      <th>diag_2</th>\n",
       "      <th>diag_3</th>\n",
       "      <th>number_diagnoses</th>\n",
       "    </tr>\n",
       "  </thead>\n",
       "  <tbody>\n",
       "    <tr>\n",
       "      <th>count</th>\n",
       "      <td>1.017660e+05</td>\n",
       "      <td>1.017660e+05</td>\n",
       "      <td>1.017660e+05</td>\n",
       "      <td>1.017660e+05</td>\n",
       "      <td>1.017660e+05</td>\n",
       "      <td>1.017660e+05</td>\n",
       "      <td>1.017660e+05</td>\n",
       "      <td>1.017660e+05</td>\n",
       "      <td>1.017660e+05</td>\n",
       "      <td>1.017660e+05</td>\n",
       "    </tr>\n",
       "    <tr>\n",
       "      <th>mean</th>\n",
       "      <td>-4.706383e-15</td>\n",
       "      <td>-1.684634e-13</td>\n",
       "      <td>6.726046e-15</td>\n",
       "      <td>2.357310e-14</td>\n",
       "      <td>3.243938e-16</td>\n",
       "      <td>-2.183720e-14</td>\n",
       "      <td>-3.484535e-15</td>\n",
       "      <td>1.148034e-14</td>\n",
       "      <td>-8.239507e-15</td>\n",
       "      <td>1.284175e-13</td>\n",
       "    </tr>\n",
       "    <tr>\n",
       "      <th>std</th>\n",
       "      <td>1.000005e+00</td>\n",
       "      <td>1.000005e+00</td>\n",
       "      <td>1.000005e+00</td>\n",
       "      <td>1.000005e+00</td>\n",
       "      <td>1.000005e+00</td>\n",
       "      <td>1.000005e+00</td>\n",
       "      <td>1.000005e+00</td>\n",
       "      <td>1.000005e+00</td>\n",
       "      <td>1.000005e+00</td>\n",
       "      <td>1.000005e+00</td>\n",
       "    </tr>\n",
       "    <tr>\n",
       "      <th>min</th>\n",
       "      <td>-3.824600e+00</td>\n",
       "      <td>-7.084607e-01</td>\n",
       "      <td>-5.143125e-01</td>\n",
       "      <td>-1.137649e+00</td>\n",
       "      <td>-2.139630e+00</td>\n",
       "      <td>-1.848268e+00</td>\n",
       "      <td>-1.477460e+00</td>\n",
       "      <td>-1.104772e+00</td>\n",
       "      <td>-8.455671e-01</td>\n",
       "      <td>-3.321596e+00</td>\n",
       "    </tr>\n",
       "    <tr>\n",
       "      <th>25%</th>\n",
       "      <td>-6.879862e-01</td>\n",
       "      <td>-7.084607e-01</td>\n",
       "      <td>-5.143125e-01</td>\n",
       "      <td>-8.026506e-01</td>\n",
       "      <td>-6.147950e-01</td>\n",
       "      <td>-7.409197e-01</td>\n",
       "      <td>-1.033632e+00</td>\n",
       "      <td>-1.104772e+00</td>\n",
       "      <td>-8.455671e-01</td>\n",
       "      <td>-7.357332e-01</td>\n",
       "    </tr>\n",
       "    <tr>\n",
       "      <th>50%</th>\n",
       "      <td>-6.066351e-02</td>\n",
       "      <td>-7.084607e-01</td>\n",
       "      <td>-5.143125e-01</td>\n",
       "      <td>-1.326548e-01</td>\n",
       "      <td>4.596660e-02</td>\n",
       "      <td>-1.257264e-01</td>\n",
       "      <td>-1.459758e-01</td>\n",
       "      <td>1.658140e-01</td>\n",
       "      <td>-3.849166e-01</td>\n",
       "      <td>2.986119e-01</td>\n",
       "    </tr>\n",
       "    <tr>\n",
       "      <th>75%</th>\n",
       "      <td>5.666592e-01</td>\n",
       "      <td>6.752434e-01</td>\n",
       "      <td>5.385430e-02</td>\n",
       "      <td>5.373411e-01</td>\n",
       "      <td>7.067282e-01</td>\n",
       "      <td>4.894670e-01</td>\n",
       "      <td>7.416804e-01</td>\n",
       "      <td>5.893427e-01</td>\n",
       "      <td>7.573398e-02</td>\n",
       "      <td>8.157845e-01</td>\n",
       "    </tr>\n",
       "    <tr>\n",
       "      <th>max</th>\n",
       "      <td>1.821305e+00</td>\n",
       "      <td>4.134504e+00</td>\n",
       "      <td>4.599189e+00</td>\n",
       "      <td>3.217324e+00</td>\n",
       "      <td>4.518815e+00</td>\n",
       "      <td>7.994826e+00</td>\n",
       "      <td>2.073165e+00</td>\n",
       "      <td>2.283458e+00</td>\n",
       "      <td>2.839637e+00</td>\n",
       "      <td>4.435992e+00</td>\n",
       "    </tr>\n",
       "  </tbody>\n",
       "</table>\n",
       "</div>"
      ],
      "text/plain": [
       "                age  admission_type_id  discharge_disposition_id  \\\n",
       "count  1.017660e+05       1.017660e+05              1.017660e+05   \n",
       "mean  -4.706383e-15      -1.684634e-13              6.726046e-15   \n",
       "std    1.000005e+00       1.000005e+00              1.000005e+00   \n",
       "min   -3.824600e+00      -7.084607e-01             -5.143125e-01   \n",
       "25%   -6.879862e-01      -7.084607e-01             -5.143125e-01   \n",
       "50%   -6.066351e-02      -7.084607e-01             -5.143125e-01   \n",
       "75%    5.666592e-01       6.752434e-01              5.385430e-02   \n",
       "max    1.821305e+00       4.134504e+00              4.599189e+00   \n",
       "\n",
       "       time_in_hospital  num_lab_procedures  num_medications        diag_1  \\\n",
       "count      1.017660e+05        1.017660e+05     1.017660e+05  1.017660e+05   \n",
       "mean       2.357310e-14        3.243938e-16    -2.183720e-14 -3.484535e-15   \n",
       "std        1.000005e+00        1.000005e+00     1.000005e+00  1.000005e+00   \n",
       "min       -1.137649e+00       -2.139630e+00    -1.848268e+00 -1.477460e+00   \n",
       "25%       -8.026506e-01       -6.147950e-01    -7.409197e-01 -1.033632e+00   \n",
       "50%       -1.326548e-01        4.596660e-02    -1.257264e-01 -1.459758e-01   \n",
       "75%        5.373411e-01        7.067282e-01     4.894670e-01  7.416804e-01   \n",
       "max        3.217324e+00        4.518815e+00     7.994826e+00  2.073165e+00   \n",
       "\n",
       "             diag_2        diag_3  number_diagnoses  \n",
       "count  1.017660e+05  1.017660e+05      1.017660e+05  \n",
       "mean   1.148034e-14 -8.239507e-15      1.284175e-13  \n",
       "std    1.000005e+00  1.000005e+00      1.000005e+00  \n",
       "min   -1.104772e+00 -8.455671e-01     -3.321596e+00  \n",
       "25%   -1.104772e+00 -8.455671e-01     -7.357332e-01  \n",
       "50%    1.658140e-01 -3.849166e-01      2.986119e-01  \n",
       "75%    5.893427e-01  7.573398e-02      8.157845e-01  \n",
       "max    2.283458e+00  2.839637e+00      4.435992e+00  "
      ]
     },
     "execution_count": 19,
     "metadata": {},
     "output_type": "execute_result"
    }
   ],
   "source": [
    "X_std.describe()"
   ]
  },
  {
   "cell_type": "code",
   "execution_count": 20,
   "metadata": {},
   "outputs": [
    {
     "data": {
      "text/plain": [
       "array([[<matplotlib.axes._subplots.AxesSubplot object at 0x000001687A4CEAC8>,\n",
       "        <matplotlib.axes._subplots.AxesSubplot object at 0x0000016800027748>,\n",
       "        <matplotlib.axes._subplots.AxesSubplot object at 0x000001687A53EB38>],\n",
       "       [<matplotlib.axes._subplots.AxesSubplot object at 0x00000168000E0630>,\n",
       "        <matplotlib.axes._subplots.AxesSubplot object at 0x0000016800140710>,\n",
       "        <matplotlib.axes._subplots.AxesSubplot object at 0x0000016800140748>],\n",
       "       [<matplotlib.axes._subplots.AxesSubplot object at 0x000001680020CD68>,\n",
       "        <matplotlib.axes._subplots.AxesSubplot object at 0x000001680028C080>,\n",
       "        <matplotlib.axes._subplots.AxesSubplot object at 0x00000168002E6FD0>],\n",
       "       [<matplotlib.axes._subplots.AxesSubplot object at 0x0000016800329940>,\n",
       "        <matplotlib.axes._subplots.AxesSubplot object at 0x00000168003B65C0>,\n",
       "        <matplotlib.axes._subplots.AxesSubplot object at 0x00000168003C6F28>]], dtype=object)"
      ]
     },
     "execution_count": 20,
     "metadata": {},
     "output_type": "execute_result"
    },
    {
     "data": {
      "image/png": "[encoded data removed]",
      "text/plain": [
       "<matplotlib.figure.Figure at 0x1687fa42a20>"
      ]
     },
     "metadata": {},
     "output_type": "display_data"
    }
   ],
   "source": [
    "X_std.hist()"
   ]
  },
  {
   "cell_type": "markdown",
   "metadata": {},
   "source": [
    "## Computing the Covariance Matrix"
   ]
  },
  {
   "cell_type": "code",
   "execution_count": 21,
   "metadata": {},
   "outputs": [
    {
     "data": {
      "text/plain": [
       "array([[ 1.00000983, -0.00720867,  0.11432414,  0.10751597,  0.02077052,\n",
       "         0.04184744,  0.12271062,  0.11600567,  0.03814191,  0.24259988],\n",
       "       [-0.00720867,  1.00000983,  0.08348407, -0.01249978, -0.14371486,\n",
       "         0.07953571,  0.01617161, -0.00546663,  0.00560784, -0.11712687],\n",
       "       [ 0.11432414,  0.08348407,  1.00000983,  0.16274916,  0.02341507,\n",
       "         0.10875414,  0.00302207,  0.00196153,  0.00857067,  0.04689143],\n",
       "       [ 0.10751597, -0.01249978,  0.16274916,  1.00000983,  0.3184533 ,\n",
       "         0.46614   , -0.04325822,  0.04556248,  0.05671243,  0.22018844],\n",
       "       [ 0.02077052, -0.14371486,  0.02341507,  0.3184533 ,  1.00000983,\n",
       "         0.26816326, -0.01187498,  0.04499927,  0.04266911,  0.15277488],\n",
       "       [ 0.04184744,  0.07953571,  0.10875414,  0.46614   ,  0.26816326,\n",
       "         1.00000983,  0.05498249,  0.08258465,  0.04701449,  0.26152868],\n",
       "       [ 0.12271062,  0.01617161,  0.00302207, -0.04325822, -0.01187498,\n",
       "         0.05498249,  1.00000983,  0.05379251,  0.05825976,  0.03829225],\n",
       "       [ 0.11600567, -0.00546663,  0.00196153,  0.04556248,  0.04499927,\n",
       "         0.08258465,  0.05379251,  1.00000983,  0.06312927,  0.13023326],\n",
       "       [ 0.03814191,  0.00560784,  0.00857067,  0.05671243,  0.04266911,\n",
       "         0.04701449,  0.05825976,  0.06312927,  1.00000983,  0.09310694],\n",
       "       [ 0.24259988, -0.11712687,  0.04689143,  0.22018844,  0.15277488,\n",
       "         0.26152868,  0.03829225,  0.13023326,  0.09310694,  1.00000983]])"
      ]
     },
     "execution_count": 21,
     "metadata": {},
     "output_type": "execute_result"
    }
   ],
   "source": [
    "np_X_std_cov = np.cov(X_std.transpose())\n",
    "np_X_std_cov"
   ]
  },
  {
   "cell_type": "code",
   "execution_count": 22,
   "metadata": {
    "collapsed": true
   },
   "outputs": [],
   "source": [
    "n = X_std.shape"
   ]
  },
  {
   "cell_type": "code",
   "execution_count": 23,
   "metadata": {},
   "outputs": [
    {
     "data": {
      "text/plain": [
       "array([[ 1.00000983, -0.00720867,  0.11432414,  0.10751597,  0.02077052,\n",
       "         0.04184744,  0.12271062,  0.11600567,  0.03814191,  0.24259988],\n",
       "       [-0.00720867,  1.00000983,  0.08348407, -0.01249978, -0.14371486,\n",
       "         0.07953571,  0.01617161, -0.00546663,  0.00560784, -0.11712687],\n",
       "       [ 0.11432414,  0.08348407,  1.00000983,  0.16274916,  0.02341507,\n",
       "         0.10875414,  0.00302207,  0.00196153,  0.00857067,  0.04689143],\n",
       "       [ 0.10751597, -0.01249978,  0.16274916,  1.00000983,  0.3184533 ,\n",
       "         0.46614   , -0.04325822,  0.04556248,  0.05671243,  0.22018844],\n",
       "       [ 0.02077052, -0.14371486,  0.02341507,  0.3184533 ,  1.00000983,\n",
       "         0.26816326, -0.01187498,  0.04499927,  0.04266911,  0.15277488],\n",
       "       [ 0.04184744,  0.07953571,  0.10875414,  0.46614   ,  0.26816326,\n",
       "         1.00000983,  0.05498249,  0.08258465,  0.04701449,  0.26152868],\n",
       "       [ 0.12271062,  0.01617161,  0.00302207, -0.04325822, -0.01187498,\n",
       "         0.05498249,  1.00000983,  0.05379251,  0.05825976,  0.03829225],\n",
       "       [ 0.11600567, -0.00546663,  0.00196153,  0.04556248,  0.04499927,\n",
       "         0.08258465,  0.05379251,  1.00000983,  0.06312927,  0.13023326],\n",
       "       [ 0.03814191,  0.00560784,  0.00857067,  0.05671243,  0.04266911,\n",
       "         0.04701449,  0.05825976,  0.06312927,  1.00000983,  0.09310694],\n",
       "       [ 0.24259988, -0.11712687,  0.04689143,  0.22018844,  0.15277488,\n",
       "         0.26152868,  0.03829225,  0.13023326,  0.09310694,  1.00000983]])"
      ]
     },
     "execution_count": 23,
     "metadata": {},
     "output_type": "execute_result"
    }
   ],
   "source": [
    "X_std_cov = (1/(n[0] - 1)) * (X_std.transpose().values @ X_std.values)\n",
    "\n",
    "# check that your covariance = NumPy above\n",
    "X_std_cov"
   ]
  },
  {
   "cell_type": "markdown",
   "metadata": {},
   "source": [
    "## Eigendecomposition vs SVD"
   ]
  },
  {
   "cell_type": "code",
   "execution_count": 24,
   "metadata": {},
   "outputs": [
    {
     "name": "stdout",
     "output_type": "stream",
     "text": [
      "Values: [ 2.00519253  0.48853518  1.24121624  1.16835813  0.63840639  0.73307897\n",
      "  0.84316695  1.00532461  0.9345359   0.94228337]\n",
      "\n",
      "Vectors: [[ 0.24008529 -0.20450915  0.54154171 -0.04459551 -0.21825747 -0.54995916\n",
      "  -0.25181252  0.42591395 -0.10184482  0.00169633]\n",
      " [-0.05611264  0.15997117  0.03810307 -0.73042296  0.3487557  -0.25154804\n",
      "  -0.31369851 -0.29107     0.23998111  0.10326983]\n",
      " [ 0.19139658 -0.0548502   0.03043738 -0.52258042  0.17242309  0.21790449\n",
      "   0.55854216  0.38096949 -0.38056202  0.08482596]\n",
      " [ 0.51912162  0.62984492 -0.27256339 -0.11728368 -0.49065658 -0.06090142\n",
      "  -0.03124772 -0.00494881 -0.00231396 -0.01739902]\n",
      " [ 0.39227617 -0.04109114 -0.3110207   0.27662708  0.52477049 -0.53826802\n",
      "   0.27254732 -0.07715622  0.01514532 -0.15997961]\n",
      " [ 0.5038739  -0.67639614 -0.20053942 -0.18473145 -0.19564924  0.24499437\n",
      "  -0.14418931 -0.19163733  0.21001779 -0.11972391]\n",
      " [ 0.06254945  0.15495955  0.47896398 -0.0548109   0.01154995  0.12391961\n",
      "   0.228325   -0.24340707  0.11782559 -0.77389452]\n",
      " [ 0.17640522  0.04082675  0.38300807  0.11269355 -0.05111675  0.02136567\n",
      "   0.44494539 -0.15938203  0.55727296  0.52040153]\n",
      " [ 0.1331196  -0.0512804   0.23958291  0.06177528 -0.06498561 -0.06068889\n",
      "   0.01022614 -0.65868319 -0.64513911  0.24567147]\n",
      " [ 0.41541419  0.21298562  0.2441555   0.2178974   0.48951751  0.46241405\n",
      "  -0.42420756  0.16589815 -0.04718626  0.10872925]]\n"
     ]
    }
   ],
   "source": [
    "eigvals, eigvecs = np.linalg.eig(X_std_cov)\n",
    "\n",
    "print(\"Values:\", eigvals)\n",
    "print()\n",
    "print(\"Vectors:\", eigvecs)"
   ]
  },
  {
   "cell_type": "code",
   "execution_count": 25,
   "metadata": {
    "scrolled": false
   },
   "outputs": [
    {
     "name": "stdout",
     "output_type": "stream",
     "text": [
      "U: [[-0.24008529  0.54154171 -0.04459551 -0.42591395  0.00169633 -0.10184482\n",
      "   0.25181252  0.54995916  0.21825747  0.20450915]\n",
      " [ 0.05611264  0.03810307 -0.73042296  0.29107     0.10326983  0.23998111\n",
      "   0.31369851  0.25154804 -0.3487557  -0.15997117]\n",
      " [-0.19139658  0.03043738 -0.52258042 -0.38096949  0.08482596 -0.38056202\n",
      "  -0.55854216 -0.21790449 -0.17242309  0.0548502 ]\n",
      " [-0.51912162 -0.27256339 -0.11728368  0.00494881 -0.01739902 -0.00231396\n",
      "   0.03124772  0.06090142  0.49065658 -0.62984492]\n",
      " [-0.39227617 -0.3110207   0.27662708  0.07715622 -0.15997961  0.01514532\n",
      "  -0.27254732  0.53826802 -0.52477049  0.04109114]\n",
      " [-0.5038739  -0.20053942 -0.18473145  0.19163733 -0.11972391  0.21001779\n",
      "   0.14418931 -0.24499437  0.19564924  0.67639614]\n",
      " [-0.06254945  0.47896398 -0.0548109   0.24340707 -0.77389452  0.11782559\n",
      "  -0.228325   -0.12391961 -0.01154995 -0.15495955]\n",
      " [-0.17640522  0.38300807  0.11269355  0.15938203  0.52040153  0.55727296\n",
      "  -0.44494539 -0.02136567  0.05111675 -0.04082675]\n",
      " [-0.1331196   0.23958291  0.06177528  0.65868319  0.24567147 -0.64513911\n",
      "  -0.01022614  0.06068889  0.06498561  0.0512804 ]\n",
      " [-0.41541419  0.2441555   0.2178974  -0.16589815  0.10872925 -0.04718626\n",
      "   0.42420756 -0.46241405 -0.48951751 -0.21298562]]\n",
      "\n",
      "S: [ 2.00519253  1.24121624  1.16835813  1.00532461  0.94228337  0.9345359\n",
      "  0.84316695  0.73307897  0.63840639  0.48853518]\n",
      "\n",
      "V: [[-0.24008529  0.05611264 -0.19139658 -0.51912162 -0.39227617 -0.5038739\n",
      "  -0.06254945 -0.17640522 -0.1331196  -0.41541419]\n",
      " [ 0.54154171  0.03810307  0.03043738 -0.27256339 -0.3110207  -0.20053942\n",
      "   0.47896398  0.38300807  0.23958291  0.2441555 ]\n",
      " [-0.04459551 -0.73042296 -0.52258042 -0.11728368  0.27662708 -0.18473145\n",
      "  -0.0548109   0.11269355  0.06177528  0.2178974 ]\n",
      " [-0.42591395  0.29107    -0.38096949  0.00494881  0.07715622  0.19163733\n",
      "   0.24340707  0.15938203  0.65868319 -0.16589815]\n",
      " [ 0.00169633  0.10326983  0.08482596 -0.01739902 -0.15997961 -0.11972391\n",
      "  -0.77389452  0.52040153  0.24567147  0.10872925]\n",
      " [-0.10184482  0.23998111 -0.38056202 -0.00231396  0.01514532  0.21001779\n",
      "   0.11782559  0.55727296 -0.64513911 -0.04718626]\n",
      " [ 0.25181252  0.31369851 -0.55854216  0.03124772 -0.27254732  0.14418931\n",
      "  -0.228325   -0.44494539 -0.01022614  0.42420756]\n",
      " [ 0.54995916  0.25154804 -0.21790449  0.06090142  0.53826802 -0.24499437\n",
      "  -0.12391961 -0.02136567  0.06068889 -0.46241405]\n",
      " [ 0.21825747 -0.3487557  -0.17242309  0.49065658 -0.52477049  0.19564924\n",
      "  -0.01154995  0.05111675  0.06498561 -0.48951751]\n",
      " [ 0.20450915 -0.15997117  0.0548502  -0.62984492  0.04109114  0.67639614\n",
      "  -0.15495955 -0.04082675  0.0512804  -0.21298562]]\n"
     ]
    }
   ],
   "source": [
    "svd_u,svd_s,svd_v = np.linalg.svd(X_std_cov.transpose())\n",
    "\n",
    "print(\"U:\", svd_u)\n",
    "print()\n",
    "print(\"S:\", svd_s)\n",
    "print()\n",
    "print(\"V:\", svd_v)"
   ]
  },
  {
   "cell_type": "markdown",
   "metadata": {},
   "source": [
    "## Selecting Components\n",
    "#### From one of the assignments we learnt that\n",
    "To make the decision about which components to keep, we typically keep those that explain the most variance.\n",
    "\n",
    "NOTE: the eigenvalues/S should be sorted descending before performing these steps (may already be done)"
   ]
  },
  {
   "cell_type": "markdown",
   "metadata": {},
   "source": [
    "### Variance via Eigendecomposition"
   ]
  },
  {
   "cell_type": "code",
   "execution_count": 26,
   "metadata": {},
   "outputs": [
    {
     "name": "stdout",
     "output_type": "stream",
     "text": [
      "1.0\n",
      "[0.20051728268874111, 0.048853038320580168, 0.12412040404035304, 0.11683466490839642, 0.063840011219440482, 0.073307176709403635, 0.084315866708772932, 0.10053147302561545, 0.093452671603134793, 0.09422741077556207]\n"
     ]
    }
   ],
   "source": [
    "prop_eig = [e/sum(eigvals) for e in eigvals]\n",
    "\n",
    "print(sum(prop_eig))\n",
    "print(prop_eig)"
   ]
  },
  {
   "cell_type": "markdown",
   "metadata": {},
   "source": [
    "### Variance via SVD"
   ]
  },
  {
   "cell_type": "code",
   "execution_count": 27,
   "metadata": {},
   "outputs": [
    {
     "name": "stdout",
     "output_type": "stream",
     "text": [
      "1.0\n",
      "[0.34683053883022985, 0.1328923773256418, 0.11774897734605788, 0.087180188046012075, 0.07658932189990969, 0.075335062368261277, 0.061324261455238484, 0.046356079275904405, 0.035156013185111905, 0.020587180267632552]\n"
     ]
    }
   ],
   "source": [
    "prop_svd = [(s*s)/sum([(s_i*s_i) for s_i in svd_s]) for s in svd_s]\n",
    "\n",
    "print(sum(prop_svd))\n",
    "print(prop_svd)"
   ]
  },
  {
   "cell_type": "markdown",
   "metadata": {},
   "source": [
    "## Plot Explained Variance"
   ]
  },
  {
   "cell_type": "markdown",
   "metadata": {},
   "source": [
    "### For Eigendecomposition"
   ]
  },
  {
   "cell_type": "code",
   "execution_count": 28,
   "metadata": {},
   "outputs": [
    {
     "data": {
      "text/plain": [
       "array([ 0.20051728,  0.24937032,  0.37349073,  0.49032539,  0.5541654 ,\n",
       "        0.62747258,  0.71178844,  0.81231992,  0.90577259,  1.        ])"
      ]
     },
     "execution_count": 28,
     "metadata": {},
     "output_type": "execute_result"
    },
    {
     "data": {
      "image/png": "[encoded data removed]",
      "text/plain": [
       "<matplotlib.figure.Figure at 0x16800497898>"
      ]
     },
     "metadata": {},
     "output_type": "display_data"
    }
   ],
   "source": [
    "plt.plot([x+1 for x in range(len(prop_eig))], np.cumsum(prop_eig), '-o')\n",
    "\n",
    "plt.yticks(np.linspace(0, 1, 11, endpoint=True))\n",
    "plt.xticks(np.linspace(1, len(prop_eig), len(prop_eig), endpoint=True))\n",
    "plt.title('Cumulative Explained Variance vs Components')\n",
    "\n",
    "np.cumsum(prop_eig)"
   ]
  },
  {
   "cell_type": "markdown",
   "metadata": {},
   "source": [
    "### For SVD"
   ]
  },
  {
   "cell_type": "code",
   "execution_count": 29,
   "metadata": {},
   "outputs": [
    {
     "data": {
      "text/plain": [
       "array([ 0.34683054,  0.47972292,  0.59747189,  0.68465208,  0.7612414 ,\n",
       "        0.83657647,  0.89790073,  0.94425681,  0.97941282,  1.        ])"
      ]
     },
     "execution_count": 29,
     "metadata": {},
     "output_type": "execute_result"
    },
    {
     "data": {
      "image/png": "[encoded data removed]",
      "text/plain": [
       "<matplotlib.figure.Figure at 0x168007609e8>"
      ]
     },
     "metadata": {},
     "output_type": "display_data"
    }
   ],
   "source": [
    "plt.plot([x+1 for x in range(len(prop_svd))], np.cumsum(prop_svd), '-o')\n",
    "\n",
    "plt.yticks(np.linspace(0, 1, 11, endpoint=True))\n",
    "plt.xticks(np.linspace(1, len(prop_svd), len(prop_svd), endpoint=True))\n",
    "plt.title('Cumulative Explained Variance vs Components')\n",
    "\n",
    "np.cumsum(prop_svd)"
   ]
  },
  {
   "cell_type": "markdown",
   "metadata": {},
   "source": [
    "## PCA via `scikit-learn`"
   ]
  },
  {
   "cell_type": "code",
   "execution_count": 30,
   "metadata": {},
   "outputs": [
    {
     "data": {
      "text/plain": [
       "2"
      ]
     },
     "execution_count": 30,
     "metadata": {},
     "output_type": "execute_result"
    }
   ],
   "source": [
    "numpcs = len(list(filter(lambda x: x > 1.2, svd_s)))\n",
    "numpcs"
   ]
  },
  {
   "cell_type": "code",
   "execution_count": 31,
   "metadata": {},
   "outputs": [
    {
     "name": "stdout",
     "output_type": "stream",
     "text": [
      "Components: [[ 0.24008529 -0.05611264  0.19139658  0.51912162  0.39227617  0.5038739\n",
      "   0.06254945  0.17640522  0.1331196   0.41541419]\n",
      " [-0.54154171 -0.03810307 -0.03043738  0.27256339  0.3110207   0.20053942\n",
      "  -0.47896398 -0.38300807 -0.23958291 -0.2441555 ]]\n",
      "\n",
      "S: [ 451.7282567   355.40451654]\n",
      "\n",
      "Explained Variance:  [ 0.20051728  0.1241204 ]\n"
     ]
    }
   ],
   "source": [
    "skl_pca = sklearn.decomposition.PCA(n_components=numpcs).fit(X_std)\n",
    "\n",
    "print(\"Components:\", skl_pca.components_)\n",
    "print()\n",
    "print(\"S:\", skl_pca.singular_values_)\n",
    "print()\n",
    "print(\"Explained Variance: \", skl_pca.explained_variance_ratio_)"
   ]
  },
  {
   "cell_type": "markdown",
   "metadata": {},
   "source": [
    "## Visualizing the Projected Data"
   ]
  },
  {
   "cell_type": "code",
   "execution_count": 32,
   "metadata": {},
   "outputs": [
    {
     "name": "stdout",
     "output_type": "stream",
     "text": [
      "W_2=[[ 0.24008529 -0.20450915]\n",
      " [-0.05611264  0.15997117]\n",
      " [ 0.19139658 -0.0548502 ]\n",
      " [ 0.51912162  0.62984492]\n",
      " [ 0.39227617 -0.04109114]\n",
      " [ 0.5038739  -0.67639614]\n",
      " [ 0.06254945  0.15495955]\n",
      " [ 0.17640522  0.04082675]\n",
      " [ 0.1331196  -0.0512804 ]\n",
      " [ 0.41541419  0.21298562]]\n"
     ]
    }
   ],
   "source": [
    "W = eigvecs[:,:numpcs]\n",
    "\n",
    "print(\"W_{}={}\".format(numpcs, W))"
   ]
  },
  {
   "cell_type": "code",
   "execution_count": 33,
   "metadata": {},
   "outputs": [
    {
     "name": "stdout",
     "output_type": "stream",
     "text": [
      "(101766, 10)\n",
      "(10, 2)\n"
     ]
    }
   ],
   "source": [
    "print(X_std.shape)\n",
    "print(W.shape)"
   ]
  },
  {
   "cell_type": "code",
   "execution_count": 34,
   "metadata": {
    "collapsed": true
   },
   "outputs": [],
   "source": [
    "X_proj = X_std.values @ W"
   ]
  },
  {
   "cell_type": "code",
   "execution_count": 35,
   "metadata": {},
   "outputs": [
    {
     "data": {
      "text/plain": [
       "<matplotlib.text.Text at 0x16800651358>"
      ]
     },
     "execution_count": 35,
     "metadata": {},
     "output_type": "execute_result"
    },
    {
     "data": {
      "image/png": "[encoded data removed]",
      "text/plain": [
       "<matplotlib.figure.Figure at 0x168007a9208>"
      ]
     },
     "metadata": {},
     "output_type": "display_data"
    }
   ],
   "source": [
    "plt.plot(X_proj[:,0], X_proj[:,1], '.')\n",
    "plt.xlabel('PC1')\n",
    "plt.ylabel('PC2')\n"
   ]
  },
  {
   "cell_type": "markdown",
   "metadata": {},
   "source": [
    "## Supervised Visualization"
   ]
  },
  {
   "cell_type": "code",
   "execution_count": 36,
   "metadata": {},
   "outputs": [
    {
     "data": {
      "text/plain": [
       "<matplotlib.text.Text at 0x168015f7cf8>"
      ]
     },
     "execution_count": 36,
     "metadata": {},
     "output_type": "execute_result"
    },
    {
     "data": {
      "image/png": "[encoded data removed]",
      "text/plain": [
       "<matplotlib.figure.Figure at 0x168003af080>"
      ]
     },
     "metadata": {},
     "output_type": "display_data"
    }
   ],
   "source": [
    "for readmitted_val in distinct_readmitted:\n",
    "    plt.plot([X_proj[p, 0] for p in Y[Y.isin([readmitted_val])].index], \n",
    "             [X_proj[p, 1] for p in Y[Y.isin([readmitted_val])].index], \n",
    "             '.', label=readmitted_val)\n",
    "\n",
    "    \n",
    "plt.legend(loc='upper right')\n",
    "plt.xlabel('PC1')\n",
    "plt.ylabel('PC2')"
   ]
  },
  {
   "cell_type": "markdown",
   "metadata": {},
   "source": [
    "## Interpretting the Components"
   ]
  },
  {
   "cell_type": "code",
   "execution_count": 37,
   "metadata": {},
   "outputs": [
    {
     "data": {
      "text/plain": [
       "time_in_hospital            0.519122\n",
       "num_medications             0.503874\n",
       "number_diagnoses            0.415414\n",
       "num_lab_procedures          0.392276\n",
       "age                         0.240085\n",
       "discharge_disposition_id    0.191397\n",
       "diag_2                      0.176405\n",
       "diag_3                      0.133120\n",
       "diag_1                      0.062549\n",
       "admission_type_id          -0.056113\n",
       "dtype: float64"
      ]
     },
     "execution_count": 37,
     "metadata": {},
     "output_type": "execute_result"
    }
   ],
   "source": [
    "one = pd.Series(eigvecs[:, 0], index=X.columns)\n",
    "one.sort_values(ascending=False)"
   ]
  },
  {
   "cell_type": "code",
   "execution_count": 38,
   "metadata": {},
   "outputs": [
    {
     "data": {
      "text/plain": [
       "time_in_hospital            0.629845\n",
       "number_diagnoses            0.212986\n",
       "admission_type_id           0.159971\n",
       "diag_1                      0.154960\n",
       "diag_2                      0.040827\n",
       "num_lab_procedures         -0.041091\n",
       "diag_3                     -0.051280\n",
       "discharge_disposition_id   -0.054850\n",
       "age                        -0.204509\n",
       "num_medications            -0.676396\n",
       "dtype: float64"
      ]
     },
     "execution_count": 38,
     "metadata": {},
     "output_type": "execute_result"
    }
   ],
   "source": [
    "two = pd.Series(eigvecs[:, 1], index=X.columns)\n",
    "two.sort_values(ascending=False)"
   ]
  }
 ],
 "metadata": {
  "kernelspec": {
   "display_name": "Python 3",
   "language": "python",
   "name": "python3"
  },
  "language_info": {
   "codemirror_mode": {
    "name": "ipython",
    "version": 3
   },
   "file_extension": ".py",
   "mimetype": "text/x-python",
   "name": "python",
   "nbconvert_exporter": "python",
   "pygments_lexer": "ipython3",
   "version": "3.6.1"
  }
 },
 "nbformat": 4,
 "nbformat_minor": 2
}
