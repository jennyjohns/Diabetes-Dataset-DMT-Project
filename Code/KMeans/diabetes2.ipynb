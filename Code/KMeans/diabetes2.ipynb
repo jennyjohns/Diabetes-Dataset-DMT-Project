{
 "cells": [
  {
   "cell_type": "code",
   "execution_count": 3,
   "metadata": {
    "scrolled": true
   },
   "outputs": [
    {
     "data": {
      "image/png": "[encoded data removed]",
      "text/plain": [
       "<matplotlib.figure.Figure at 0x18de429ce80>"
      ]
     },
     "metadata": {},
     "output_type": "display_data"
    }
   ],
   "source": [
    "from matplotlib import pyplot as plt\n",
    "import numpy as np\n",
    "import pandas as pd\n",
    "from sklearn import cluster\n",
    "from sklearn.mixture import GaussianMixture as GM\n",
    "\n",
    "def mean(l):\n",
    "    if(len(l) == 0):\n",
    "        return 0\n",
    "    return sum(l) / len(l)\n",
    "\n",
    "base_uri = \"C:/Chang/NEU/courses/cs6220 datamining/project/Diabetes-Data/data-\"\n",
    "\n",
    "patient_avg_glucose = list()\n",
    "patient_avg_insulin_dose = list()\n",
    "\n",
    "for i in range(1, 71, 1):\n",
    "    if (i < 10):\n",
    "        uri = base_uri + \"0\" + str(i)\n",
    "    else:\n",
    "        uri = base_uri + str(i)\n",
    "    \n",
    "    with open(uri) as f:\n",
    "        lines = f.readlines()\n",
    "        glu_measure = list()\n",
    "        reg_insulin_dose = list()\n",
    "        \n",
    "        for line in lines:\n",
    "            items = line.strip().split()\n",
    "            if(items[2] >= '33' and items[2] <= '35'):\n",
    "                reg_insulin_dose.append(float(items[3]))\n",
    "            if(items[2] >= '57' and items[2] <='64' and items[3].isnumeric()):\n",
    "                glu_measure.append(int(items[3]))\n",
    "    f.close()\n",
    "    patient_avg_glucose.append(mean(glu_measure))\n",
    "    patient_avg_insulin_dose.append(mean(reg_insulin_dose))\n",
    "\n",
    "# Prepare data for K means\n",
    "data = np.array([[x, y] for x, y in zip(patient_avg_insulin_dose, patient_avg_glucose)], np.int32)\n",
    "\n",
    "# Apply K means\n",
    "k = 3\n",
    "kmeans = cluster.KMeans(n_clusters=k)\n",
    "kmeans.fit(data)\n",
    "\n",
    "labels = kmeans.labels_\n",
    "centroids = kmeans.cluster_centers_\n",
    "\n",
    "for i in range(k):\n",
    "    # select only data observations with cluster label == i\n",
    "    ds = data[np.where(labels==i)]\n",
    "    # plot the data observations\n",
    "    plt.plot(ds[:,0],ds[:,1],'o')\n",
    "    # plot the centroids\n",
    "    lines = plt.plot(centroids[i,0],centroids[i,1],'kx')\n",
    "    # make the centroid x's bigger\n",
    "    plt.setp(lines,ms=15.0)\n",
    "    plt.setp(lines,mew=2.0)\n",
    "    plt.xlabel(\"avg_insulin_dose\")\n",
    "    plt.ylabel(\"avg_glucose_level\")\n",
    "plt.show()\n",
    "\n",
    "# # GMM\n",
    "# gmm = GM(n_components=2).fit(data)\n",
    "# labels = gmm.predict(data)\n",
    "# plt.scatter(data[:, 0], data[:, 1], c=labels, s=40, cmap='viridis');\n",
    "# plt.show()\n",
    "    \n",
    "# # Write result to output file\n",
    "# outputPath = \"C:/Chang/NEU/courses/cs6220 datamining/project/patient_data.dat\"\n",
    "# with open(outputPath, \"w\") as w:\n",
    "#     for x, y in zip(patient_avg_glucose, patient_avg_insulin_dose):\n",
    "#         w.write(\"{},{}\\n\".format(x, y))\n",
    "# w.close()\n"
   ]
  },
  {
   "cell_type": "markdown",
   "metadata": {},
   "source": [
    "The dataset contains insulin dose and glucose measurement data of 70 patients (stored in 70 files) over several weeks or months. We processed the files and calculated the average insulin dose and average glucose level for each patient and performed k-means clustering on the result. As shown above, there are roughly 3 clusters, glucose_level < 150, glucose_level between 150 and 200, and glucose_level > 200.\n",
    "\n",
    "For diabetes treatment, \"it would be very desirable to keep 90% of all blood glucose (BG) measurements < 200 mg/dl and that the average BG should be 150 mg/dl or less. ...Conversely, an average BG > 200 (over several years) is associated with a poor long-term outcome.\" (from Domain-Description)"
   ]
  },
  {
   "cell_type": "code",
   "execution_count": null,
   "metadata": {
    "collapsed": true
   },
   "outputs": [],
   "source": []
  }
 ],
 "metadata": {
  "kernelspec": {
   "display_name": "Python 3",
   "language": "python",
   "name": "python3"
  },
  "language_info": {
   "codemirror_mode": {
    "name": "ipython",
    "version": 3
   },
   "file_extension": ".py",
   "mimetype": "text/x-python",
   "name": "python",
   "nbconvert_exporter": "python",
   "pygments_lexer": "ipython3",
   "version": "3.6.1"
  }
 },
 "nbformat": 4,
 "nbformat_minor": 2
}
