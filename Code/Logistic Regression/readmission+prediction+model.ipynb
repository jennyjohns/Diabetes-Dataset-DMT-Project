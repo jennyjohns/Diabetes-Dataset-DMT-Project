{
 "cells": [
  {
   "cell_type": "code",
   "execution_count": 1,
   "metadata": {
    "collapsed": true
   },
   "outputs": [],
   "source": [
    "import pandas as pd\n",
    "import numpy as np\n",
    "import sklearn\n",
    "import random\n",
    "from matplotlib import pyplot as plt\n",
    "from sklearn.decomposition import PCA as sklearn_pca\n",
    "\n",
    "np.set_printoptions(formatter={'float':'{:0.4f}'.format})\n",
    "pd.set_option('display.precision', 5)\n",
    "\n",
    "filePath = \"C:/Chang/NEU/courses/cs6220 datamining/project/dataset_diabetes/diabetic_data.csv\"\n",
    "# Read dataset using pandas\n",
    "data = pd.read_csv(filePath, sep=',',header=0)"
   ]
  },
  {
   "cell_type": "markdown",
   "metadata": {},
   "source": [
    "Here we tried to build a logistic regression model to predict if a patient has high probablity of readmission, using features including 'time_in_hospital', 'num_lab_procedures', 'num_procedures', 'num_medications', 'number_outpatient', 'number_emergency', 'number_inpatient', 'number_diagnoses'. Our model had an accuracy of 54.86%. \n",
    "\n",
    "Using PCA we reduced the dimensionality of the original data to 2, and retrained the model. The accuracy was slightly improved to 55.05%."
   ]
  },
  {
   "cell_type": "code",
   "execution_count": 2,
   "metadata": {
    "collapsed": true
   },
   "outputs": [],
   "source": [
    "# Drop encounter_id and patient_nbr. Drop weight and payer_code which has 97% missing data\n",
    "df = data.drop(['encounter_id', 'patient_nbr', 'weight', 'payer_code'], axis = 1)"
   ]
  },
  {
   "cell_type": "code",
   "execution_count": 3,
   "metadata": {
    "collapsed": true
   },
   "outputs": [],
   "source": [
    "# Encode readmitted into 0 or 1\n",
    "df['readmitted'] = np.where(df['readmitted'].str.contains('<30'), 1, 0)"
   ]
  },
  {
   "cell_type": "code",
   "execution_count": 4,
   "metadata": {
    "collapsed": true
   },
   "outputs": [],
   "source": [
    "# Select numeric data\n",
    "numData = df[['time_in_hospital', 'num_lab_procedures', 'num_procedures', 'num_medications', \n",
    "              'number_outpatient', 'number_emergency', 'number_inpatient', 'number_diagnoses', 'readmitted']]"
   ]
  },
  {
   "cell_type": "code",
   "execution_count": 5,
   "metadata": {},
   "outputs": [
    {
     "data": {
      "text/plain": [
       "(11357, 9)"
      ]
     },
     "execution_count": 5,
     "metadata": {},
     "output_type": "execute_result"
    }
   ],
   "source": [
    "# Group data according to readmitted or not\n",
    "readmitted_pos = numData[numData['readmitted'] == 1]\n",
    "readmitted_neg = numData[numData['readmitted'] == 0]\n",
    "readmitted_pos.shape"
   ]
  },
  {
   "cell_type": "code",
   "execution_count": 6,
   "metadata": {
    "collapsed": true
   },
   "outputs": [],
   "source": [
    "# Dataframe to list\n",
    "readmitted_pos_list = readmitted_pos.values.tolist()\n",
    "readmitted_neg_list = readmitted_neg.values.tolist()\n",
    "\n",
    "# Randomly select negative data to have same size as pos data\n",
    "sample_neg = random.sample(readmitted_neg_list, 12000)\n",
    "    "
   ]
  },
  {
   "cell_type": "code",
   "execution_count": 25,
   "metadata": {
    "collapsed": true
   },
   "outputs": [],
   "source": [
    "# Prepare train and test data\n",
    "train = readmitted_pos_list[0:5500] + sample_neg[0:5500]\n",
    "test = readmitted_pos_list[5500:] + sample_neg[5500:]\n",
    "\n",
    "# The last column is 'readmitted' label\n",
    "train_X = []\n",
    "train_Y = []\n",
    "for x in train:\n",
    "    train_X.append(x[:-1])\n",
    "    train_Y.append([x[-1]])\n",
    "\n",
    "test_X = []\n",
    "test_Y = []\n",
    "for x in test:\n",
    "    test_X.append(x[:-1])\n",
    "    test_Y.append([x[-1]])"
   ]
  },
  {
   "cell_type": "code",
   "execution_count": 26,
   "metadata": {
    "collapsed": true
   },
   "outputs": [],
   "source": [
    "# train logesitc regression model\n",
    "lr = sklearn.linear_model.LogisticRegression()"
   ]
  },
  {
   "cell_type": "code",
   "execution_count": 27,
   "metadata": {},
   "outputs": [
    {
     "name": "stderr",
     "output_type": "stream",
     "text": [
      "C:\\Users\\lay42\\Anaconda3\\lib\\site-packages\\sklearn\\utils\\validation.py:547: DataConversionWarning: A column-vector y was passed when a 1d array was expected. Please change the shape of y to (n_samples, ), for example using ravel().\n",
      "  y = column_or_1d(y, warn=True)\n"
     ]
    },
    {
     "data": {
      "text/plain": [
       "LogisticRegression(C=1.0, class_weight=None, dual=False, fit_intercept=True,\n",
       "          intercept_scaling=1, max_iter=100, multi_class='ovr', n_jobs=1,\n",
       "          penalty='l2', random_state=None, solver='liblinear', tol=0.0001,\n",
       "          verbose=0, warm_start=False)"
      ]
     },
     "execution_count": 27,
     "metadata": {},
     "output_type": "execute_result"
    }
   ],
   "source": [
    "lr.fit(train_X, train_Y)"
   ]
  },
  {
   "cell_type": "code",
   "execution_count": 28,
   "metadata": {
    "collapsed": true
   },
   "outputs": [],
   "source": [
    "predicts = lr.predict(test_X)"
   ]
  },
  {
   "cell_type": "code",
   "execution_count": 29,
   "metadata": {},
   "outputs": [
    {
     "name": "stdout",
     "output_type": "stream",
     "text": [
      "0.5485959375252893\n"
     ]
    }
   ],
   "source": [
    "count = 0\n",
    "for p, y in zip(predicts, test_Y):\n",
    "    if p == y:\n",
    "        count += 1\n",
    "print(count/len(test_Y))"
   ]
  },
  {
   "cell_type": "code",
   "execution_count": 30,
   "metadata": {},
   "outputs": [
    {
     "data": {
      "text/plain": [
       "(11000, 2)"
      ]
     },
     "execution_count": 30,
     "metadata": {},
     "output_type": "execute_result"
    }
   ],
   "source": [
    "pca = sklearn_pca(n_components=2)\n",
    "data = pca.fit_transform(train_X)\n",
    "data.shape"
   ]
  },
  {
   "cell_type": "code",
   "execution_count": 31,
   "metadata": {},
   "outputs": [
    {
     "data": {
      "text/plain": [
       "(12357, 2)"
      ]
     },
     "execution_count": 31,
     "metadata": {},
     "output_type": "execute_result"
    }
   ],
   "source": [
    "test_X = pca.transform(test_X)\n",
    "test_X.shape"
   ]
  },
  {
   "cell_type": "code",
   "execution_count": 32,
   "metadata": {},
   "outputs": [
    {
     "name": "stdout",
     "output_type": "stream",
     "text": [
      "0.5505381565104799\n"
     ]
    },
    {
     "name": "stderr",
     "output_type": "stream",
     "text": [
      "C:\\Users\\lay42\\Anaconda3\\lib\\site-packages\\sklearn\\utils\\validation.py:547: DataConversionWarning: A column-vector y was passed when a 1d array was expected. Please change the shape of y to (n_samples, ), for example using ravel().\n",
      "  y = column_or_1d(y, warn=True)\n"
     ]
    }
   ],
   "source": [
    "lr.fit(data, train_Y)\n",
    "predicts = lr.predict(test_X)\n",
    "\n",
    "count = 0\n",
    "for p, y in zip(predicts, test_Y):\n",
    "    if p == y:\n",
    "        count += 1\n",
    "print(count/len(test_Y))"
   ]
  },
  {
   "cell_type": "code",
   "execution_count": null,
   "metadata": {
    "collapsed": true
   },
   "outputs": [],
   "source": []
  }
 ],
 "metadata": {
  "kernelspec": {
   "display_name": "Python 3",
   "language": "python",
   "name": "python3"
  },
  "language_info": {
   "codemirror_mode": {
    "name": "ipython",
    "version": 3
   },
   "file_extension": ".py",
   "mimetype": "text/x-python",
   "name": "python",
   "nbconvert_exporter": "python",
   "pygments_lexer": "ipython3",
   "version": "3.6.1"
  }
 },
 "nbformat": 4,
 "nbformat_minor": 2
}
