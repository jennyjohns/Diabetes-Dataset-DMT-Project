{
 "cells": [
  {
   "cell_type": "markdown",
   "metadata": {},
   "source": [
    "## 1. Imports and loading data"
   ]
  },
  {
   "cell_type": "code",
   "execution_count": 18,
   "metadata": {
    "collapsed": true
   },
   "outputs": [],
   "source": [
    "import pandas as pd\n",
    "import numpy as np\n",
    "import sklearn\n",
    "import random\n",
    "from matplotlib import pyplot as plt\n",
    "from sklearn.decomposition import PCA as sklearn_pca\n",
    "\n",
    "np.set_printoptions(formatter={'float':'{:0.4f}'.format})\n",
    "pd.set_option('display.precision', 5)\n",
    "\n",
    "filePath = \"C:/Chang/NEU/courses/cs6220 datamining/project/dataset_diabetes/diabetic_data.csv\"\n",
    "# Read dataset using pandas\n",
    "data = pd.read_csv(filePath, sep=',',header=0)"
   ]
  },
  {
   "cell_type": "markdown",
   "metadata": {},
   "source": [
    "## 2. Preprocessing\n",
    "This data set contains both numeric and nominal data types. For numeric data we need to do normalization, while for categorical data, we perform one-hot encoding."
   ]
  },
  {
   "cell_type": "code",
   "execution_count": 19,
   "metadata": {
    "collapsed": true
   },
   "outputs": [],
   "source": [
    "# Drop encounter_id and patient_nbr. Drop weight and payer_code which has 97% missing data\n",
    "df = data.drop(['encounter_id', 'patient_nbr', 'weight', 'payer_code'], axis = 1)"
   ]
  },
  {
   "cell_type": "code",
   "execution_count": 20,
   "metadata": {
    "collapsed": true
   },
   "outputs": [],
   "source": [
    "# TODO: Currently performed binary encoding. Should try data binning.\n",
    "df['diag_1'] = np.where(df['diag_1'].str.contains('250'), 1, 0)\n",
    "df['diag_2'] = np.where(df['diag_2'].str.contains('250'), 1, 0)\n",
    "df['diag_3'] = np.where(df['diag_3'].str.contains('250'), 1, 0)\n",
    "\n",
    "# Encode readmitted into 0 or 1\n",
    "df['readmitted'] = np.where(df['readmitted'].str.contains('<30'), 1, 0)"
   ]
  },
  {
   "cell_type": "code",
   "execution_count": 21,
   "metadata": {
    "collapsed": true
   },
   "outputs": [],
   "source": [
    "# Standardizing numeric data\n",
    "from sklearn.preprocessing import StandardScaler\n",
    "numData = df[['time_in_hospital', 'num_lab_procedures', 'num_procedures', 'num_medications', \n",
    "              'number_outpatient', 'number_emergency', 'number_inpatient', 'number_diagnoses']]\n",
    "numData_std = StandardScaler().fit_transform(numData)"
   ]
  },
  {
   "cell_type": "code",
   "execution_count": 22,
   "metadata": {},
   "outputs": [
    {
     "data": {
      "text/html": [
       "<div>\n",
       "<style>\n",
       "    .dataframe thead tr:only-child th {\n",
       "        text-align: right;\n",
       "    }\n",
       "\n",
       "    .dataframe thead th {\n",
       "        text-align: left;\n",
       "    }\n",
       "\n",
       "    .dataframe tbody tr th {\n",
       "        vertical-align: top;\n",
       "    }\n",
       "</style>\n",
       "<table border=\"1\" class=\"dataframe\">\n",
       "  <thead>\n",
       "    <tr style=\"text-align: right;\">\n",
       "      <th></th>\n",
       "      <th>0</th>\n",
       "      <th>1</th>\n",
       "      <th>2</th>\n",
       "      <th>3</th>\n",
       "      <th>4</th>\n",
       "      <th>5</th>\n",
       "      <th>6</th>\n",
       "      <th>7</th>\n",
       "    </tr>\n",
       "  </thead>\n",
       "  <tbody>\n",
       "    <tr>\n",
       "      <th>count</th>\n",
       "      <td>1.01766e+05</td>\n",
       "      <td>1.01766e+05</td>\n",
       "      <td>1.01766e+05</td>\n",
       "      <td>1.01766e+05</td>\n",
       "      <td>1.01766e+05</td>\n",
       "      <td>1.01766e+05</td>\n",
       "      <td>1.01766e+05</td>\n",
       "      <td>1.01766e+05</td>\n",
       "    </tr>\n",
       "    <tr>\n",
       "      <th>mean</th>\n",
       "      <td>2.35731e-14</td>\n",
       "      <td>3.24394e-16</td>\n",
       "      <td>4.23327e-15</td>\n",
       "      <td>-2.18372e-14</td>\n",
       "      <td>1.00082e-13</td>\n",
       "      <td>2.50927e-14</td>\n",
       "      <td>-4.31450e-14</td>\n",
       "      <td>1.28417e-13</td>\n",
       "    </tr>\n",
       "    <tr>\n",
       "      <th>std</th>\n",
       "      <td>1.00000e+00</td>\n",
       "      <td>1.00000e+00</td>\n",
       "      <td>1.00000e+00</td>\n",
       "      <td>1.00000e+00</td>\n",
       "      <td>1.00000e+00</td>\n",
       "      <td>1.00000e+00</td>\n",
       "      <td>1.00000e+00</td>\n",
       "      <td>1.00000e+00</td>\n",
       "    </tr>\n",
       "    <tr>\n",
       "      <th>min</th>\n",
       "      <td>-1.13765e+00</td>\n",
       "      <td>-2.13963e+00</td>\n",
       "      <td>-7.85398e-01</td>\n",
       "      <td>-1.84827e+00</td>\n",
       "      <td>-2.91461e-01</td>\n",
       "      <td>-2.12620e-01</td>\n",
       "      <td>-5.03276e-01</td>\n",
       "      <td>-3.32160e+00</td>\n",
       "    </tr>\n",
       "    <tr>\n",
       "      <th>25%</th>\n",
       "      <td>-8.02651e-01</td>\n",
       "      <td>-6.14795e-01</td>\n",
       "      <td>-7.85398e-01</td>\n",
       "      <td>-7.40920e-01</td>\n",
       "      <td>-2.91461e-01</td>\n",
       "      <td>-2.12620e-01</td>\n",
       "      <td>-5.03276e-01</td>\n",
       "      <td>-7.35733e-01</td>\n",
       "    </tr>\n",
       "    <tr>\n",
       "      <th>50%</th>\n",
       "      <td>-1.32655e-01</td>\n",
       "      <td>4.59666e-02</td>\n",
       "      <td>-1.99162e-01</td>\n",
       "      <td>-1.25726e-01</td>\n",
       "      <td>-2.91461e-01</td>\n",
       "      <td>-2.12620e-01</td>\n",
       "      <td>-5.03276e-01</td>\n",
       "      <td>2.98612e-01</td>\n",
       "    </tr>\n",
       "    <tr>\n",
       "      <th>75%</th>\n",
       "      <td>5.37341e-01</td>\n",
       "      <td>7.06728e-01</td>\n",
       "      <td>3.87074e-01</td>\n",
       "      <td>4.89467e-01</td>\n",
       "      <td>-2.91461e-01</td>\n",
       "      <td>-2.12620e-01</td>\n",
       "      <td>2.88579e-01</td>\n",
       "      <td>8.15784e-01</td>\n",
       "    </tr>\n",
       "    <tr>\n",
       "      <th>max</th>\n",
       "      <td>3.21732e+00</td>\n",
       "      <td>4.51881e+00</td>\n",
       "      <td>2.73202e+00</td>\n",
       "      <td>7.99483e+00</td>\n",
       "      <td>3.28509e+01</td>\n",
       "      <td>8.14667e+01</td>\n",
       "      <td>1.61257e+01</td>\n",
       "      <td>4.43599e+00</td>\n",
       "    </tr>\n",
       "  </tbody>\n",
       "</table>\n",
       "</div>"
      ],
      "text/plain": [
       "                 0            1            2            3            4  \\\n",
       "count  1.01766e+05  1.01766e+05  1.01766e+05  1.01766e+05  1.01766e+05   \n",
       "mean   2.35731e-14  3.24394e-16  4.23327e-15 -2.18372e-14  1.00082e-13   \n",
       "std    1.00000e+00  1.00000e+00  1.00000e+00  1.00000e+00  1.00000e+00   \n",
       "min   -1.13765e+00 -2.13963e+00 -7.85398e-01 -1.84827e+00 -2.91461e-01   \n",
       "25%   -8.02651e-01 -6.14795e-01 -7.85398e-01 -7.40920e-01 -2.91461e-01   \n",
       "50%   -1.32655e-01  4.59666e-02 -1.99162e-01 -1.25726e-01 -2.91461e-01   \n",
       "75%    5.37341e-01  7.06728e-01  3.87074e-01  4.89467e-01 -2.91461e-01   \n",
       "max    3.21732e+00  4.51881e+00  2.73202e+00  7.99483e+00  3.28509e+01   \n",
       "\n",
       "                 5            6            7  \n",
       "count  1.01766e+05  1.01766e+05  1.01766e+05  \n",
       "mean   2.50927e-14 -4.31450e-14  1.28417e-13  \n",
       "std    1.00000e+00  1.00000e+00  1.00000e+00  \n",
       "min   -2.12620e-01 -5.03276e-01 -3.32160e+00  \n",
       "25%   -2.12620e-01 -5.03276e-01 -7.35733e-01  \n",
       "50%   -2.12620e-01 -5.03276e-01  2.98612e-01  \n",
       "75%   -2.12620e-01  2.88579e-01  8.15784e-01  \n",
       "max    8.14667e+01  1.61257e+01  4.43599e+00  "
      ]
     },
     "execution_count": 22,
     "metadata": {},
     "output_type": "execute_result"
    }
   ],
   "source": [
    "# Confirm that the numeric data are standardized\n",
    "df_numData = pd.DataFrame(numData_std)\n",
    "df_numData.describe()"
   ]
  },
  {
   "cell_type": "code",
   "execution_count": 23,
   "metadata": {
    "collapsed": true
   },
   "outputs": [],
   "source": [
    "df[['time_in_hospital', 'num_lab_procedures', 'num_procedures', 'num_medications', \n",
    "              'number_outpatient', 'number_emergency', 'number_inpatient', 'number_diagnoses']] = df_numData"
   ]
  },
  {
   "cell_type": "code",
   "execution_count": 24,
   "metadata": {},
   "outputs": [
    {
     "data": {
      "text/html": [
       "<div>\n",
       "<style>\n",
       "    .dataframe thead tr:only-child th {\n",
       "        text-align: right;\n",
       "    }\n",
       "\n",
       "    .dataframe thead th {\n",
       "        text-align: left;\n",
       "    }\n",
       "\n",
       "    .dataframe tbody tr th {\n",
       "        vertical-align: top;\n",
       "    }\n",
       "</style>\n",
       "<table border=\"1\" class=\"dataframe\">\n",
       "  <thead>\n",
       "    <tr style=\"text-align: right;\">\n",
       "      <th></th>\n",
       "      <th>time_in_hospital</th>\n",
       "      <th>num_lab_procedures</th>\n",
       "      <th>num_procedures</th>\n",
       "      <th>num_medications</th>\n",
       "      <th>number_outpatient</th>\n",
       "      <th>number_emergency</th>\n",
       "      <th>number_inpatient</th>\n",
       "      <th>number_diagnoses</th>\n",
       "      <th>race_?</th>\n",
       "      <th>race_AfricanAmerican</th>\n",
       "      <th>...</th>\n",
       "      <th>metformin-rosiglitazone_No</th>\n",
       "      <th>metformin-rosiglitazone_Steady</th>\n",
       "      <th>metformin-pioglitazone_No</th>\n",
       "      <th>metformin-pioglitazone_Steady</th>\n",
       "      <th>change_Ch</th>\n",
       "      <th>change_No</th>\n",
       "      <th>diabetesMed_No</th>\n",
       "      <th>diabetesMed_Yes</th>\n",
       "      <th>readmitted_0</th>\n",
       "      <th>readmitted_1</th>\n",
       "    </tr>\n",
       "  </thead>\n",
       "  <tbody>\n",
       "    <tr>\n",
       "      <th>count</th>\n",
       "      <td>1.01766e+05</td>\n",
       "      <td>1.01766e+05</td>\n",
       "      <td>1.01766e+05</td>\n",
       "      <td>1.01766e+05</td>\n",
       "      <td>1.01766e+05</td>\n",
       "      <td>1.01766e+05</td>\n",
       "      <td>1.01766e+05</td>\n",
       "      <td>1.01766e+05</td>\n",
       "      <td>101766.00000</td>\n",
       "      <td>101766.00000</td>\n",
       "      <td>...</td>\n",
       "      <td>101766.00000</td>\n",
       "      <td>101766.00000</td>\n",
       "      <td>101766.00000</td>\n",
       "      <td>1.01766e+05</td>\n",
       "      <td>101766.00000</td>\n",
       "      <td>101766.00000</td>\n",
       "      <td>101766.00000</td>\n",
       "      <td>101766.00000</td>\n",
       "      <td>101766.00000</td>\n",
       "      <td>101766.00000</td>\n",
       "    </tr>\n",
       "    <tr>\n",
       "      <th>mean</th>\n",
       "      <td>2.35731e-14</td>\n",
       "      <td>3.24394e-16</td>\n",
       "      <td>4.23327e-15</td>\n",
       "      <td>-2.18372e-14</td>\n",
       "      <td>1.00082e-13</td>\n",
       "      <td>2.50927e-14</td>\n",
       "      <td>-4.31450e-14</td>\n",
       "      <td>1.28417e-13</td>\n",
       "      <td>0.02234</td>\n",
       "      <td>0.18877</td>\n",
       "      <td>...</td>\n",
       "      <td>0.99998</td>\n",
       "      <td>0.00002</td>\n",
       "      <td>0.99999</td>\n",
       "      <td>9.82646e-06</td>\n",
       "      <td>0.46195</td>\n",
       "      <td>0.53805</td>\n",
       "      <td>0.22997</td>\n",
       "      <td>0.77003</td>\n",
       "      <td>0.88840</td>\n",
       "      <td>0.11160</td>\n",
       "    </tr>\n",
       "    <tr>\n",
       "      <th>std</th>\n",
       "      <td>1.00000e+00</td>\n",
       "      <td>1.00000e+00</td>\n",
       "      <td>1.00000e+00</td>\n",
       "      <td>1.00000e+00</td>\n",
       "      <td>1.00000e+00</td>\n",
       "      <td>1.00000e+00</td>\n",
       "      <td>1.00000e+00</td>\n",
       "      <td>1.00000e+00</td>\n",
       "      <td>0.14777</td>\n",
       "      <td>0.39132</td>\n",
       "      <td>...</td>\n",
       "      <td>0.00443</td>\n",
       "      <td>0.00443</td>\n",
       "      <td>0.00313</td>\n",
       "      <td>3.13472e-03</td>\n",
       "      <td>0.49855</td>\n",
       "      <td>0.49855</td>\n",
       "      <td>0.42081</td>\n",
       "      <td>0.42081</td>\n",
       "      <td>0.31487</td>\n",
       "      <td>0.31487</td>\n",
       "    </tr>\n",
       "    <tr>\n",
       "      <th>min</th>\n",
       "      <td>-1.13765e+00</td>\n",
       "      <td>-2.13963e+00</td>\n",
       "      <td>-7.85398e-01</td>\n",
       "      <td>-1.84827e+00</td>\n",
       "      <td>-2.91461e-01</td>\n",
       "      <td>-2.12620e-01</td>\n",
       "      <td>-5.03276e-01</td>\n",
       "      <td>-3.32160e+00</td>\n",
       "      <td>0.00000</td>\n",
       "      <td>0.00000</td>\n",
       "      <td>...</td>\n",
       "      <td>0.00000</td>\n",
       "      <td>0.00000</td>\n",
       "      <td>0.00000</td>\n",
       "      <td>0.00000e+00</td>\n",
       "      <td>0.00000</td>\n",
       "      <td>0.00000</td>\n",
       "      <td>0.00000</td>\n",
       "      <td>0.00000</td>\n",
       "      <td>0.00000</td>\n",
       "      <td>0.00000</td>\n",
       "    </tr>\n",
       "    <tr>\n",
       "      <th>25%</th>\n",
       "      <td>-8.02651e-01</td>\n",
       "      <td>-6.14795e-01</td>\n",
       "      <td>-7.85398e-01</td>\n",
       "      <td>-7.40920e-01</td>\n",
       "      <td>-2.91461e-01</td>\n",
       "      <td>-2.12620e-01</td>\n",
       "      <td>-5.03276e-01</td>\n",
       "      <td>-7.35733e-01</td>\n",
       "      <td>0.00000</td>\n",
       "      <td>0.00000</td>\n",
       "      <td>...</td>\n",
       "      <td>1.00000</td>\n",
       "      <td>0.00000</td>\n",
       "      <td>1.00000</td>\n",
       "      <td>0.00000e+00</td>\n",
       "      <td>0.00000</td>\n",
       "      <td>0.00000</td>\n",
       "      <td>0.00000</td>\n",
       "      <td>1.00000</td>\n",
       "      <td>1.00000</td>\n",
       "      <td>0.00000</td>\n",
       "    </tr>\n",
       "    <tr>\n",
       "      <th>50%</th>\n",
       "      <td>-1.32655e-01</td>\n",
       "      <td>4.59666e-02</td>\n",
       "      <td>-1.99162e-01</td>\n",
       "      <td>-1.25726e-01</td>\n",
       "      <td>-2.91461e-01</td>\n",
       "      <td>-2.12620e-01</td>\n",
       "      <td>-5.03276e-01</td>\n",
       "      <td>2.98612e-01</td>\n",
       "      <td>0.00000</td>\n",
       "      <td>0.00000</td>\n",
       "      <td>...</td>\n",
       "      <td>1.00000</td>\n",
       "      <td>0.00000</td>\n",
       "      <td>1.00000</td>\n",
       "      <td>0.00000e+00</td>\n",
       "      <td>0.00000</td>\n",
       "      <td>1.00000</td>\n",
       "      <td>0.00000</td>\n",
       "      <td>1.00000</td>\n",
       "      <td>1.00000</td>\n",
       "      <td>0.00000</td>\n",
       "    </tr>\n",
       "    <tr>\n",
       "      <th>75%</th>\n",
       "      <td>5.37341e-01</td>\n",
       "      <td>7.06728e-01</td>\n",
       "      <td>3.87074e-01</td>\n",
       "      <td>4.89467e-01</td>\n",
       "      <td>-2.91461e-01</td>\n",
       "      <td>-2.12620e-01</td>\n",
       "      <td>2.88579e-01</td>\n",
       "      <td>8.15784e-01</td>\n",
       "      <td>0.00000</td>\n",
       "      <td>0.00000</td>\n",
       "      <td>...</td>\n",
       "      <td>1.00000</td>\n",
       "      <td>0.00000</td>\n",
       "      <td>1.00000</td>\n",
       "      <td>0.00000e+00</td>\n",
       "      <td>1.00000</td>\n",
       "      <td>1.00000</td>\n",
       "      <td>0.00000</td>\n",
       "      <td>1.00000</td>\n",
       "      <td>1.00000</td>\n",
       "      <td>0.00000</td>\n",
       "    </tr>\n",
       "    <tr>\n",
       "      <th>max</th>\n",
       "      <td>3.21732e+00</td>\n",
       "      <td>4.51881e+00</td>\n",
       "      <td>2.73202e+00</td>\n",
       "      <td>7.99483e+00</td>\n",
       "      <td>3.28509e+01</td>\n",
       "      <td>8.14667e+01</td>\n",
       "      <td>1.61257e+01</td>\n",
       "      <td>4.43599e+00</td>\n",
       "      <td>1.00000</td>\n",
       "      <td>1.00000</td>\n",
       "      <td>...</td>\n",
       "      <td>1.00000</td>\n",
       "      <td>1.00000</td>\n",
       "      <td>1.00000</td>\n",
       "      <td>1.00000e+00</td>\n",
       "      <td>1.00000</td>\n",
       "      <td>1.00000</td>\n",
       "      <td>1.00000</td>\n",
       "      <td>1.00000</td>\n",
       "      <td>1.00000</td>\n",
       "      <td>1.00000</td>\n",
       "    </tr>\n",
       "  </tbody>\n",
       "</table>\n",
       "<p>8 rows × 242 columns</p>\n",
       "</div>"
      ],
      "text/plain": [
       "       time_in_hospital  num_lab_procedures  num_procedures  num_medications  \\\n",
       "count       1.01766e+05         1.01766e+05     1.01766e+05      1.01766e+05   \n",
       "mean        2.35731e-14         3.24394e-16     4.23327e-15     -2.18372e-14   \n",
       "std         1.00000e+00         1.00000e+00     1.00000e+00      1.00000e+00   \n",
       "min        -1.13765e+00        -2.13963e+00    -7.85398e-01     -1.84827e+00   \n",
       "25%        -8.02651e-01        -6.14795e-01    -7.85398e-01     -7.40920e-01   \n",
       "50%        -1.32655e-01         4.59666e-02    -1.99162e-01     -1.25726e-01   \n",
       "75%         5.37341e-01         7.06728e-01     3.87074e-01      4.89467e-01   \n",
       "max         3.21732e+00         4.51881e+00     2.73202e+00      7.99483e+00   \n",
       "\n",
       "       number_outpatient  number_emergency  number_inpatient  \\\n",
       "count        1.01766e+05       1.01766e+05       1.01766e+05   \n",
       "mean         1.00082e-13       2.50927e-14      -4.31450e-14   \n",
       "std          1.00000e+00       1.00000e+00       1.00000e+00   \n",
       "min         -2.91461e-01      -2.12620e-01      -5.03276e-01   \n",
       "25%         -2.91461e-01      -2.12620e-01      -5.03276e-01   \n",
       "50%         -2.91461e-01      -2.12620e-01      -5.03276e-01   \n",
       "75%         -2.91461e-01      -2.12620e-01       2.88579e-01   \n",
       "max          3.28509e+01       8.14667e+01       1.61257e+01   \n",
       "\n",
       "       number_diagnoses        race_?  race_AfricanAmerican      ...       \\\n",
       "count       1.01766e+05  101766.00000          101766.00000      ...        \n",
       "mean        1.28417e-13       0.02234               0.18877      ...        \n",
       "std         1.00000e+00       0.14777               0.39132      ...        \n",
       "min        -3.32160e+00       0.00000               0.00000      ...        \n",
       "25%        -7.35733e-01       0.00000               0.00000      ...        \n",
       "50%         2.98612e-01       0.00000               0.00000      ...        \n",
       "75%         8.15784e-01       0.00000               0.00000      ...        \n",
       "max         4.43599e+00       1.00000               1.00000      ...        \n",
       "\n",
       "       metformin-rosiglitazone_No  metformin-rosiglitazone_Steady  \\\n",
       "count                101766.00000                    101766.00000   \n",
       "mean                      0.99998                         0.00002   \n",
       "std                       0.00443                         0.00443   \n",
       "min                       0.00000                         0.00000   \n",
       "25%                       1.00000                         0.00000   \n",
       "50%                       1.00000                         0.00000   \n",
       "75%                       1.00000                         0.00000   \n",
       "max                       1.00000                         1.00000   \n",
       "\n",
       "       metformin-pioglitazone_No  metformin-pioglitazone_Steady     change_Ch  \\\n",
       "count               101766.00000                    1.01766e+05  101766.00000   \n",
       "mean                     0.99999                    9.82646e-06       0.46195   \n",
       "std                      0.00313                    3.13472e-03       0.49855   \n",
       "min                      0.00000                    0.00000e+00       0.00000   \n",
       "25%                      1.00000                    0.00000e+00       0.00000   \n",
       "50%                      1.00000                    0.00000e+00       0.00000   \n",
       "75%                      1.00000                    0.00000e+00       1.00000   \n",
       "max                      1.00000                    1.00000e+00       1.00000   \n",
       "\n",
       "          change_No  diabetesMed_No  diabetesMed_Yes  readmitted_0  \\\n",
       "count  101766.00000    101766.00000     101766.00000  101766.00000   \n",
       "mean        0.53805         0.22997          0.77003       0.88840   \n",
       "std         0.49855         0.42081          0.42081       0.31487   \n",
       "min         0.00000         0.00000          0.00000       0.00000   \n",
       "25%         0.00000         0.00000          1.00000       1.00000   \n",
       "50%         1.00000         0.00000          1.00000       1.00000   \n",
       "75%         1.00000         0.00000          1.00000       1.00000   \n",
       "max         1.00000         1.00000          1.00000       1.00000   \n",
       "\n",
       "       readmitted_1  \n",
       "count  101766.00000  \n",
       "mean        0.11160  \n",
       "std         0.31487  \n",
       "min         0.00000  \n",
       "25%         0.00000  \n",
       "50%         0.00000  \n",
       "75%         0.00000  \n",
       "max         1.00000  \n",
       "\n",
       "[8 rows x 242 columns]"
      ]
     },
     "execution_count": 24,
     "metadata": {},
     "output_type": "execute_result"
    }
   ],
   "source": [
    "# Apply one-hot encoding to categorical columns\n",
    "oneHotData = pd.get_dummies(df, columns=['race', 'gender', 'age', 'admission_type_id', 'discharge_disposition_id',\n",
    "                                         'admission_source_id', 'medical_specialty', \n",
    "                                         'diag_1', \n",
    "                                         'diag_2', 'diag_3', 'max_glu_serum', 'A1Cresult', \n",
    "                                         'metformin', 'repaglinide', 'nateglinide', 'chlorpropamide', \n",
    "                                         'glimepiride', 'acetohexamide', 'glipizide', 'glyburide', 'tolbutamide', \n",
    "                                         'pioglitazone', 'rosiglitazone', 'acarbose', 'miglitol', 'troglitazone', \n",
    "                                         'tolazamide', 'examide', 'citoglipton', 'insulin', 'glyburide-metformin',\n",
    "                                         'glipizide-metformin', 'glimepiride-pioglitazone', \n",
    "                                         'metformin-rosiglitazone', 'metformin-pioglitazone', 'change', \n",
    "                                         'diabetesMed', 'readmitted'],\n",
    "                            prefix=['race', 'gender', 'age', 'admission_type_id', 'discharge_disposition_id', \n",
    "                                    'admission_source_id', 'medical_specialty', \n",
    "                                    'diag_1', 'diag_2', 'diag_3', \n",
    "                                    'max_glu_serum', 'A1Cresult', 'metformin', 'repaglinide', \n",
    "                                    'nateglinide', 'chlorpropamide', 'glimepiride', 'acetohexamide', 'glipizide', \n",
    "                                    'glyburide', 'tolbutamide', 'pioglitazone', 'rosiglitazone', 'acarbose', \n",
    "                                    'miglitol', 'troglitazone', 'tolazamide', 'examide', 'citoglipton', 'insulin',\n",
    "                                    'glyburide-metformin', 'glipizide-metformin', 'glimepiride-pioglitazone', \n",
    "                                    'metformin-rosiglitazone', 'metformin-pioglitazone', 'change', 'diabetesMed',\n",
    "                                    'readmitted'])\n",
    "oneHotData.describe()"
   ]
  },
  {
   "cell_type": "markdown",
   "metadata": {},
   "source": [
    "## 3. Train Logistic Regression Model to predict readmission"
   ]
  },
  {
   "cell_type": "code",
   "execution_count": 25,
   "metadata": {},
   "outputs": [
    {
     "data": {
      "text/plain": [
       "(11357, 242)"
      ]
     },
     "execution_count": 25,
     "metadata": {},
     "output_type": "execute_result"
    }
   ],
   "source": [
    "# prepare train and test data for logistic regression\n",
    "# Group data according to readmitted or not\n",
    "readmitted_pos = oneHotData[oneHotData['readmitted_1'] == 1]\n",
    "readmitted_neg = oneHotData[oneHotData['readmitted_0'] == 1]\n",
    "readmitted_pos.shape"
   ]
  },
  {
   "cell_type": "code",
   "execution_count": 124,
   "metadata": {},
   "outputs": [],
   "source": [
    "# Dataframe to list\n",
    "readmitted_pos_list = readmitted_pos.values.tolist()\n",
    "readmitted_neg_list = readmitted_neg.values.tolist()\n",
    "\n",
    "# Randomly select negative data to have same size as pos data\n",
    "sample_neg = random.sample(readmitted_neg_list, 12000)\n",
    "\n",
    "# Prepare train and test data\n",
    "train = readmitted_pos_list[0:8500] + sample_neg[0:8500]\n",
    "test = readmitted_pos_list[8500:] + sample_neg[8500:]\n",
    "\n",
    "# The last column is 'readmitted' label\n",
    "train_X = []\n",
    "train_Y = []\n",
    "for x in train:\n",
    "    train_X.append(x[:-2])\n",
    "    train_Y.append([x[-1]])\n",
    "\n",
    "test_X = []\n",
    "test_Y = []\n",
    "for x in test:\n",
    "    test_X.append(x[:-2])\n",
    "    test_Y.append([x[-1]])"
   ]
  },
  {
   "cell_type": "code",
   "execution_count": 125,
   "metadata": {},
   "outputs": [
    {
     "name": "stderr",
     "output_type": "stream",
     "text": [
      "C:\\Users\\lay42\\Anaconda3\\lib\\site-packages\\sklearn\\utils\\validation.py:547: DataConversionWarning: A column-vector y was passed when a 1d array was expected. Please change the shape of y to (n_samples, ), for example using ravel().\n",
      "  y = column_or_1d(y, warn=True)\n"
     ]
    },
    {
     "name": "stdout",
     "output_type": "stream",
     "text": [
      "0.5656756331602958\n"
     ]
    }
   ],
   "source": [
    "# train logesitc regression model\n",
    "lr = sklearn.linear_model.LogisticRegression()\n",
    "\n",
    "lr.fit(train_X, train_Y)\n",
    "\n",
    "predicts = lr.predict(test_X)\n",
    "\n",
    "count = 0\n",
    "for p, y in zip(predicts, test_Y):\n",
    "    if p == y:\n",
    "        count += 1\n",
    "print(count/len(test_Y))"
   ]
  },
  {
   "cell_type": "markdown",
   "metadata": {},
   "source": [
    "The accuracy of the model is 56.57%, next we want to reduce the dimensionality of the training data using PCA and retrain the model to see if we can improve the performance."
   ]
  },
  {
   "cell_type": "markdown",
   "metadata": {},
   "source": [
    "## 4. PCA"
   ]
  },
  {
   "cell_type": "code",
   "execution_count": 126,
   "metadata": {},
   "outputs": [
    {
     "data": {
      "text/plain": [
       "(17000, 6)"
      ]
     },
     "execution_count": 126,
     "metadata": {},
     "output_type": "execute_result"
    }
   ],
   "source": [
    "pca = sklearn_pca(n_components=6)\n",
    "data = pca.fit_transform(train_X)\n",
    "data.shape"
   ]
  },
  {
   "cell_type": "code",
   "execution_count": 127,
   "metadata": {},
   "outputs": [
    {
     "data": {
      "text/plain": [
       "(6357, 6)"
      ]
     },
     "execution_count": 127,
     "metadata": {},
     "output_type": "execute_result"
    }
   ],
   "source": [
    "test_X = pca.transform(test_X)\n",
    "test_X.shape"
   ]
  },
  {
   "cell_type": "code",
   "execution_count": 128,
   "metadata": {},
   "outputs": [
    {
     "name": "stdout",
     "output_type": "stream",
     "text": [
      "[0.1256 0.1111 0.0678 0.0630 0.0559 0.0522]\n"
     ]
    }
   ],
   "source": [
    "print(pca.explained_variance_ratio_)"
   ]
  },
  {
   "cell_type": "code",
   "execution_count": 129,
   "metadata": {},
   "outputs": [
    {
     "name": "stdout",
     "output_type": "stream",
     "text": [
      "0.6064181217555451\n"
     ]
    },
    {
     "name": "stderr",
     "output_type": "stream",
     "text": [
      "C:\\Users\\lay42\\Anaconda3\\lib\\site-packages\\sklearn\\utils\\validation.py:547: DataConversionWarning: A column-vector y was passed when a 1d array was expected. Please change the shape of y to (n_samples, ), for example using ravel().\n",
      "  y = column_or_1d(y, warn=True)\n"
     ]
    }
   ],
   "source": [
    "# Retrain the model\n",
    "lr.fit(data, train_Y)\n",
    "predicts = lr.predict(test_X)\n",
    "\n",
    "count = 0\n",
    "for p, y in zip(predicts, test_Y):\n",
    "    if p == y:\n",
    "        count += 1\n",
    "print(count/len(test_Y))"
   ]
  },
  {
   "cell_type": "markdown",
   "metadata": {
    "collapsed": true
   },
   "source": [
    "The accuracy of the model has been improved to 60.64% after training with low-dimensional data."
   ]
  },
  {
   "cell_type": "code",
   "execution_count": null,
   "metadata": {
    "collapsed": true
   },
   "outputs": [],
   "source": []
  }
 ],
 "metadata": {
  "kernelspec": {
   "display_name": "Python 3",
   "language": "python",
   "name": "python3"
  },
  "language_info": {
   "codemirror_mode": {
    "name": "ipython",
    "version": 3
   },
   "file_extension": ".py",
   "mimetype": "text/x-python",
   "name": "python",
   "nbconvert_exporter": "python",
   "pygments_lexer": "ipython3",
   "version": "3.6.1"
  }
 },
 "nbformat": 4,
 "nbformat_minor": 2
}
